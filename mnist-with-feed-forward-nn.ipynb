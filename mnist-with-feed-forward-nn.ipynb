{
    "cells": [
        {
            "cell_type": "markdown",
            "source": [
                "# MNIST classification with feed forward neural network\r\n",
                "In this notebook I'll build a simple neural network model with Tensorflow and Keras and use it to classify the classic MNIST dataset.\r\n",
                "\r\n",
                "---\r\n",
                "## 1. Imports and loading data\r\n",
                "The dataset is loaded from Keras API. The function `load_data()` returns the data partitioned to train and test datasets by default."
            ],
            "metadata": {}
        },
        {
            "cell_type": "code",
            "execution_count": 1,
            "source": [
                "from tensorflow.keras.callbacks import TensorBoard\r\n",
                "import tensorflow as tf\r\n",
                "import numpy as np\r\n",
                "from matplotlib import pyplot as plt\r\n",
                "from datetime import datetime\r\n",
                "\r\n",
                "(x_train, y_train), (x_test, y_test) = tf.keras.datasets.mnist.load_data()"
            ],
            "outputs": [],
            "metadata": {}
        },
        {
            "cell_type": "markdown",
            "source": [
                "---\r\n",
                "## 2. Data exploration and modification\r\n",
                "From the shapes of data we see that n = 70000 and it's split to train (n = 60000) and test (n = 10000) datasets.\r\n",
                "The feature data are tensors with each single data point being a 28x28 matrix. Label data are 1D arrays."
            ],
            "metadata": {}
        },
        {
            "cell_type": "code",
            "execution_count": 2,
            "source": [
                "print(f'x_train: {x_train.shape}')\r\n",
                "print(f'y_train: {y_train.shape}')\r\n",
                "print(f'x_test: {x_test.shape}')\r\n",
                "print(f'y_test: {y_test.shape}')"
            ],
            "outputs": [
                {
                    "output_type": "stream",
                    "name": "stdout",
                    "text": [
                        "x_train: (60000, 28, 28)\n",
                        "y_train: (60000,)\n",
                        "x_test: (10000, 28, 28)\n",
                        "y_test: (10000,)\n"
                    ]
                }
            ],
            "metadata": {}
        },
        {
            "cell_type": "markdown",
            "source": [
                "When looking at a single data point we can see that the feature matrix is a bunch of integers between 0 and 255. This is actually obvious since the features are grayscale images of digits!\r\n",
                "\r\n",
                "Labels are just simply integers telling which digit the image is representing."
            ],
            "metadata": {}
        },
        {
            "cell_type": "code",
            "execution_count": 3,
            "source": [
                "print(x_train[1])\r\n",
                "print(y_train[1])"
            ],
            "outputs": [
                {
                    "output_type": "stream",
                    "name": "stdout",
                    "text": [
                        "[[  0   0   0   0   0   0   0   0   0   0   0   0   0   0   0   0   0   0\n",
                        "    0   0   0   0   0   0   0   0   0   0]\n",
                        " [  0   0   0   0   0   0   0   0   0   0   0   0   0   0   0   0   0   0\n",
                        "    0   0   0   0   0   0   0   0   0   0]\n",
                        " [  0   0   0   0   0   0   0   0   0   0   0   0   0   0   0   0   0   0\n",
                        "    0   0   0   0   0   0   0   0   0   0]\n",
                        " [  0   0   0   0   0   0   0   0   0   0   0   0   0   0   0   0   0   0\n",
                        "    0   0   0   0   0   0   0   0   0   0]\n",
                        " [  0   0   0   0   0   0   0   0   0   0   0   0   0   0   0  51 159 253\n",
                        "  159  50   0   0   0   0   0   0   0   0]\n",
                        " [  0   0   0   0   0   0   0   0   0   0   0   0   0   0  48 238 252 252\n",
                        "  252 237   0   0   0   0   0   0   0   0]\n",
                        " [  0   0   0   0   0   0   0   0   0   0   0   0   0  54 227 253 252 239\n",
                        "  233 252  57   6   0   0   0   0   0   0]\n",
                        " [  0   0   0   0   0   0   0   0   0   0   0  10  60 224 252 253 252 202\n",
                        "   84 252 253 122   0   0   0   0   0   0]\n",
                        " [  0   0   0   0   0   0   0   0   0   0   0 163 252 252 252 253 252 252\n",
                        "   96 189 253 167   0   0   0   0   0   0]\n",
                        " [  0   0   0   0   0   0   0   0   0   0  51 238 253 253 190 114 253 228\n",
                        "   47  79 255 168   0   0   0   0   0   0]\n",
                        " [  0   0   0   0   0   0   0   0   0  48 238 252 252 179  12  75 121  21\n",
                        "    0   0 253 243  50   0   0   0   0   0]\n",
                        " [  0   0   0   0   0   0   0   0  38 165 253 233 208  84   0   0   0   0\n",
                        "    0   0 253 252 165   0   0   0   0   0]\n",
                        " [  0   0   0   0   0   0   0   7 178 252 240  71  19  28   0   0   0   0\n",
                        "    0   0 253 252 195   0   0   0   0   0]\n",
                        " [  0   0   0   0   0   0   0  57 252 252  63   0   0   0   0   0   0   0\n",
                        "    0   0 253 252 195   0   0   0   0   0]\n",
                        " [  0   0   0   0   0   0   0 198 253 190   0   0   0   0   0   0   0   0\n",
                        "    0   0 255 253 196   0   0   0   0   0]\n",
                        " [  0   0   0   0   0   0  76 246 252 112   0   0   0   0   0   0   0   0\n",
                        "    0   0 253 252 148   0   0   0   0   0]\n",
                        " [  0   0   0   0   0   0  85 252 230  25   0   0   0   0   0   0   0   0\n",
                        "    7 135 253 186  12   0   0   0   0   0]\n",
                        " [  0   0   0   0   0   0  85 252 223   0   0   0   0   0   0   0   0   7\n",
                        "  131 252 225  71   0   0   0   0   0   0]\n",
                        " [  0   0   0   0   0   0  85 252 145   0   0   0   0   0   0   0  48 165\n",
                        "  252 173   0   0   0   0   0   0   0   0]\n",
                        " [  0   0   0   0   0   0  86 253 225   0   0   0   0   0   0 114 238 253\n",
                        "  162   0   0   0   0   0   0   0   0   0]\n",
                        " [  0   0   0   0   0   0  85 252 249 146  48  29  85 178 225 253 223 167\n",
                        "   56   0   0   0   0   0   0   0   0   0]\n",
                        " [  0   0   0   0   0   0  85 252 252 252 229 215 252 252 252 196 130   0\n",
                        "    0   0   0   0   0   0   0   0   0   0]\n",
                        " [  0   0   0   0   0   0  28 199 252 252 253 252 252 233 145   0   0   0\n",
                        "    0   0   0   0   0   0   0   0   0   0]\n",
                        " [  0   0   0   0   0   0   0  25 128 252 253 252 141  37   0   0   0   0\n",
                        "    0   0   0   0   0   0   0   0   0   0]\n",
                        " [  0   0   0   0   0   0   0   0   0   0   0   0   0   0   0   0   0   0\n",
                        "    0   0   0   0   0   0   0   0   0   0]\n",
                        " [  0   0   0   0   0   0   0   0   0   0   0   0   0   0   0   0   0   0\n",
                        "    0   0   0   0   0   0   0   0   0   0]\n",
                        " [  0   0   0   0   0   0   0   0   0   0   0   0   0   0   0   0   0   0\n",
                        "    0   0   0   0   0   0   0   0   0   0]\n",
                        " [  0   0   0   0   0   0   0   0   0   0   0   0   0   0   0   0   0   0\n",
                        "    0   0   0   0   0   0   0   0   0   0]]\n",
                        "0\n"
                    ]
                }
            ],
            "metadata": {}
        },
        {
            "cell_type": "markdown",
            "source": [
                "In machine learning, and in scientific computing in general, it's important to remove any biases affecting the outcome of the model. Sometimes different numerical scales in features can lead to one feature dominating the model. This is also true for feature data fed into a neural network.\r\n",
                "\r\n",
                "The feature data is normalized here with a built-in function `normalize()`. In this case, we would've gotten the same result by dividing the data by 255. This way the feature data is normalized between 0 and 1."
            ],
            "metadata": {}
        },
        {
            "cell_type": "code",
            "execution_count": 4,
            "source": [
                "x_train = tf.keras.utils.normalize(x_train, axis=1)\r\n",
                "x_test = tf.keras.utils.normalize(x_test, axis=1)\r\n",
                "\r\n",
                "print(x_train[1])"
            ],
            "outputs": [
                {
                    "output_type": "stream",
                    "name": "stdout",
                    "text": [
                        "[[0.         0.         0.         0.         0.         0.\n",
                        "  0.         0.         0.         0.         0.         0.\n",
                        "  0.         0.         0.         0.         0.         0.\n",
                        "  0.         0.         0.         0.         0.         0.\n",
                        "  0.         0.         0.         0.        ]\n",
                        " [0.         0.         0.         0.         0.         0.\n",
                        "  0.         0.         0.         0.         0.         0.\n",
                        "  0.         0.         0.         0.         0.         0.\n",
                        "  0.         0.         0.         0.         0.         0.\n",
                        "  0.         0.         0.         0.        ]\n",
                        " [0.         0.         0.         0.         0.         0.\n",
                        "  0.         0.         0.         0.         0.         0.\n",
                        "  0.         0.         0.         0.         0.         0.\n",
                        "  0.         0.         0.         0.         0.         0.\n",
                        "  0.         0.         0.         0.        ]\n",
                        " [0.         0.         0.         0.         0.         0.\n",
                        "  0.         0.         0.         0.         0.         0.\n",
                        "  0.         0.         0.         0.         0.         0.\n",
                        "  0.         0.         0.         0.         0.         0.\n",
                        "  0.         0.         0.         0.        ]\n",
                        " [0.         0.         0.         0.         0.         0.\n",
                        "  0.         0.         0.         0.         0.         0.\n",
                        "  0.         0.         0.         0.08216044 0.2286589  0.3728098\n",
                        "  0.30506548 0.08583808 0.         0.         0.         0.\n",
                        "  0.         0.         0.         0.        ]\n",
                        " [0.         0.         0.         0.         0.         0.\n",
                        "  0.         0.         0.         0.         0.         0.\n",
                        "  0.         0.         0.08087653 0.38341541 0.36240278 0.37133624\n",
                        "  0.48350001 0.4068725  0.         0.         0.         0.\n",
                        "  0.         0.         0.         0.        ]\n",
                        " [0.         0.         0.         0.         0.         0.\n",
                        "  0.         0.         0.         0.         0.         0.\n",
                        "  0.         0.08861609 0.3824786  0.40758025 0.36240278 0.35218\n",
                        "  0.44704564 0.43262392 0.06832372 0.00859123 0.         0.\n",
                        "  0.         0.         0.         0.        ]\n",
                        " [0.         0.         0.         0.         0.         0.\n",
                        "  0.         0.         0.         0.         0.         0.01621743\n",
                        "  0.095788   0.36759266 0.42460179 0.40758025 0.36240278 0.29765841\n",
                        "  0.16116667 0.43262392 0.30326141 0.17468832 0.         0.\n",
                        "  0.         0.         0.         0.        ]\n",
                        " [0.         0.         0.         0.         0.         0.\n",
                        "  0.         0.         0.         0.         0.         0.26434406\n",
                        "  0.4023096  0.41354174 0.42460179 0.40758025 0.36240278 0.37133624\n",
                        "  0.18419048 0.32446794 0.30326141 0.23912253 0.         0.\n",
                        "  0.         0.         0.         0.        ]\n",
                        " [0.         0.         0.         0.         0.         0.\n",
                        "  0.         0.         0.         0.         0.08411834 0.38597476\n",
                        "  0.40390606 0.41518278 0.32013627 0.18365276 0.36384089 0.33597088\n",
                        "  0.09017659 0.13562417 0.30565873 0.2405544  0.         0.\n",
                        "  0.         0.         0.         0.        ]\n",
                        " [0.         0.         0.         0.         0.         0.\n",
                        "  0.         0.         0.         0.07427511 0.39255225 0.40867916\n",
                        "  0.4023096  0.29374592 0.02021913 0.12082418 0.17401086 0.03094469\n",
                        "  0.         0.         0.30326141 0.34794476 0.12263192 0.\n",
                        "  0.         0.         0.         0.        ]\n",
                        " [0.         0.         0.         0.         0.         0.\n",
                        "  0.         0.         0.04890249 0.2553207  0.41729294 0.37786605\n",
                        "  0.33206506 0.13784725 0.         0.         0.         0.\n",
                        "  0.         0.         0.30326141 0.36083161 0.40468535 0.\n",
                        "  0.         0.         0.         0.        ]\n",
                        " [0.         0.         0.         0.         0.         0.\n",
                        "  0.         0.00966301 0.22906954 0.38994434 0.39585101 0.11514373\n",
                        "  0.03033287 0.04594908 0.         0.         0.         0.\n",
                        "  0.         0.         0.30326141 0.36083161 0.47826451 0.\n",
                        "  0.         0.         0.         0.        ]\n",
                        " [0.         0.         0.         0.         0.         0.\n",
                        "  0.         0.07868449 0.32430069 0.38994434 0.10391089 0.\n",
                        "  0.         0.         0.         0.         0.         0.\n",
                        "  0.         0.         0.30326141 0.36083161 0.47826451 0.\n",
                        "  0.         0.         0.         0.        ]\n",
                        " [0.         0.         0.         0.         0.         0.\n",
                        "  0.         0.27332506 0.3255876  0.29400565 0.         0.\n",
                        "  0.         0.         0.         0.         0.         0.\n",
                        "  0.         0.         0.30565873 0.36226348 0.48071715 0.\n",
                        "  0.         0.         0.         0.        ]\n",
                        " [0.         0.         0.         0.         0.         0.\n",
                        "  0.33960736 0.33958568 0.32430069 0.17330859 0.         0.\n",
                        "  0.         0.         0.         0.         0.         0.\n",
                        "  0.         0.         0.30326141 0.36083161 0.3629905  0.\n",
                        "  0.         0.         0.         0.        ]\n",
                        " [0.         0.         0.         0.         0.         0.\n",
                        "  0.37982402 0.34786826 0.29598873 0.03868495 0.         0.\n",
                        "  0.         0.         0.         0.         0.         0.\n",
                        "  0.01343056 0.23176282 0.30326141 0.26632809 0.02943166 0.\n",
                        "  0.         0.         0.         0.        ]\n",
                        " [0.         0.         0.         0.         0.         0.\n",
                        "  0.37982402 0.34786826 0.28698037 0.         0.         0.\n",
                        "  0.         0.         0.         0.         0.         0.0103149\n",
                        "  0.25134326 0.43262392 0.26969888 0.10166287 0.         0.\n",
                        "  0.         0.         0.         0.        ]\n",
                        " [0.         0.         0.         0.         0.         0.\n",
                        "  0.37982402 0.34786826 0.18660159 0.         0.         0.\n",
                        "  0.         0.         0.         0.         0.0690291  0.24313682\n",
                        "  0.48350001 0.29699976 0.         0.         0.         0.\n",
                        "  0.         0.         0.         0.        ]\n",
                        " [0.         0.         0.         0.         0.         0.\n",
                        "  0.38429254 0.34924869 0.28955419 0.         0.         0.\n",
                        "  0.         0.         0.         0.18365276 0.34226929 0.3728098\n",
                        "  0.31082143 0.         0.         0.         0.         0.\n",
                        "  0.         0.         0.         0.        ]\n",
                        " [0.         0.         0.         0.         0.         0.\n",
                        "  0.37982402 0.34786826 0.32043997 0.22592013 0.0791702  0.04703054\n",
                        "  0.13569967 0.29210488 0.37910874 0.40758025 0.3206977  0.24608394\n",
                        "  0.10744445 0.         0.         0.         0.         0.\n",
                        "  0.         0.         0.         0.        ]\n",
                        " [0.         0.         0.         0.         0.         0.\n",
                        "  0.37982402 0.34786826 0.32430069 0.38994434 0.37770784 0.34867468\n",
                        "  0.4023096  0.41354174 0.42460179 0.31575387 0.18695382 0.\n",
                        "  0.         0.         0.         0.         0.         0.\n",
                        "  0.         0.         0.         0.        ]\n",
                        " [0.         0.         0.         0.         0.         0.\n",
                        "  0.1251185  0.27470549 0.32430069 0.38994434 0.41729294 0.40867916\n",
                        "  0.4023096  0.38236201 0.24431452 0.         0.         0.\n",
                        "  0.         0.         0.         0.         0.         0.\n",
                        "  0.         0.         0.         0.        ]\n",
                        " [0.         0.         0.         0.         0.         0.\n",
                        "  0.         0.03451074 0.16472416 0.38994434 0.41729294 0.40867916\n",
                        "  0.2251018  0.06071843 0.         0.         0.         0.\n",
                        "  0.         0.         0.         0.         0.         0.\n",
                        "  0.         0.         0.         0.        ]\n",
                        " [0.         0.         0.         0.         0.         0.\n",
                        "  0.         0.         0.         0.         0.         0.\n",
                        "  0.         0.         0.         0.         0.         0.\n",
                        "  0.         0.         0.         0.         0.         0.\n",
                        "  0.         0.         0.         0.        ]\n",
                        " [0.         0.         0.         0.         0.         0.\n",
                        "  0.         0.         0.         0.         0.         0.\n",
                        "  0.         0.         0.         0.         0.         0.\n",
                        "  0.         0.         0.         0.         0.         0.\n",
                        "  0.         0.         0.         0.        ]\n",
                        " [0.         0.         0.         0.         0.         0.\n",
                        "  0.         0.         0.         0.         0.         0.\n",
                        "  0.         0.         0.         0.         0.         0.\n",
                        "  0.         0.         0.         0.         0.         0.\n",
                        "  0.         0.         0.         0.        ]\n",
                        " [0.         0.         0.         0.         0.         0.\n",
                        "  0.         0.         0.         0.         0.         0.\n",
                        "  0.         0.         0.         0.         0.         0.\n",
                        "  0.         0.         0.         0.         0.         0.\n",
                        "  0.         0.         0.         0.        ]]\n"
                    ]
                }
            ],
            "metadata": {}
        },
        {
            "cell_type": "markdown",
            "source": [
                "With default settings in pyplots `imshow()` function the grayscale digit is plotted with 'viridis' colormap. By setting the colormap to 'binary' we can see the digit plotted as black-in-white text.\r\n",
                "\r\n",
                "By printing the correct label we can verify that this is indeed a digit '0'."
            ],
            "metadata": {}
        },
        {
            "cell_type": "code",
            "execution_count": 5,
            "source": [
                "fig, axs = plt.subplots(1,2)\r\n",
                "axs[0].imshow(x_train[1])\r\n",
                "axs[1].imshow(x_train[1], cmap=plt.cm.binary)\r\n",
                "plt.show()\r\n",
                "\r\n",
                "print(f'The correct label is: {y_train[1]}')"
            ],
            "outputs": [
                {
                    "output_type": "display_data",
                    "data": {
                        "image/png": "[encoded data removed]",
                        "text/plain": [
                            "<Figure size 432x288 with 2 Axes>"
                        ]
                    },
                    "metadata": {
                        "needs_background": "light"
                    }
                },
                {
                    "output_type": "stream",
                    "name": "stdout",
                    "text": [
                        "The correct label is: 0\n"
                    ]
                }
            ],
            "metadata": {}
        },
        {
            "cell_type": "markdown",
            "source": [
                "---\r\n",
                "## 3. Building and fitting the model\r\n",
                "The model is very basic with no convolutions or dropouts, and only one hidden layer. \r\n",
                "\r\n",
                "The Sequential model is selected, which is a simple plain stack of single-input and single-output layers (feed forward network).\r\n",
                "\r\n",
                "### Structure of the neural network\r\n",
                "The input image gets flattened at the input layer to 784 (28x28) neurons and there is a single fully connected 256-neuron hidden layer with ReLU before the output layer. Output layer has 10 neurons, one for each digit, with softmax activation function. This outputs a probability distribution where each output value is in range(0, 1) and sum up to 1. The class with highest probability is the predicted value (digit).\r\n",
                "\r\n",
                "The chosen optimizer implements the Adam algorithm, which is based on stochastic gradient descent method.\r\n",
                "\r\n",
                "The sparse categorical crossentropy is selected as the loss function. Sparse is used because the labels aren't one-hot encoded.\r\n",
                "\r\n",
                "The sparse categorical accuracy indicates how often the predicted label matches the true label."
            ],
            "metadata": {}
        },
        {
            "cell_type": "code",
            "execution_count": 6,
            "source": [
                "NEURONS = 256\r\n",
                "EPOCHS = 10\r\n",
                "\r\n",
                "model = tf.keras.models.Sequential()\r\n",
                "model.add(tf.keras.layers.Flatten())\r\n",
                "model.add(tf.keras.layers.Dense(NEURONS, activation='relu'))\r\n",
                "model.add(tf.keras.layers.Dense(10, activation='softmax'))\r\n",
                "  \r\n",
                "model.compile(\r\n",
                "  optimizer='Adam',\r\n",
                "  loss='sparse_categorical_crossentropy',\r\n",
                "  metrics=['sparse_categorical_accuracy']\r\n",
                ")"
            ],
            "outputs": [],
            "metadata": {}
        },
        {
            "cell_type": "markdown",
            "source": [
                "Training is logged with appropriate naming to differentiate models. Tensorboard can then be used to track how loss and accuracy changes with different models.\r\n",
                "\r\n",
                "Tensorboard can be started from the command line with `tensorboard --logdir logs/fit`"
            ],
            "metadata": {}
        },
        {
            "cell_type": "code",
            "execution_count": 12,
            "source": [
                "import os\r\n",
                "\r\n",
                "log_dir = os.path.join(\r\n",
                "    \"logs\",\r\n",
                "    \"fit\",\r\n",
                "    f'FFNN-{NEURONS}-NEURONS-{EPOCHS}-EPOCHS-{datetime.now().strftime(\"%Y%m%d-%H%M%S\")}',\r\n",
                ")\r\n",
                "tensorboard_callback = TensorBoard(log_dir=log_dir, histogram_freq=1)\r\n",
                "\r\n",
                "model.fit(\r\n",
                "  x_train,\r\n",
                "  y_train,\r\n",
                "  epochs=EPOCHS,\r\n",
                "  validation_data=(x_test, y_test),\r\n",
                "  callbacks=[tensorboard_callback]\r\n",
                ")"
            ],
            "outputs": [
                {
                    "output_type": "stream",
                    "name": "stdout",
                    "text": [
                        "Train on 60000 samples, validate on 10000 samples\n",
                        "Epoch 1/10\n",
                        "60000/60000 [==============================] - 20s 336us/sample - loss: 0.2675 - sparse_categorical_accuracy: 0.9241 - val_loss: 0.1626 - val_sparse_categorical_accuracy: 0.9492\n",
                        "Epoch 2/10\n",
                        "60000/60000 [==============================] - 19s 315us/sample - loss: 0.1156 - sparse_categorical_accuracy: 0.9652 - val_loss: 0.1058 - val_sparse_categorical_accuracy: 0.9680\n",
                        "Epoch 3/10\n",
                        "60000/60000 [==============================] - 19s 321us/sample - loss: 0.0773 - sparse_categorical_accuracy: 0.9772 - val_loss: 0.0887 - val_sparse_categorical_accuracy: 0.9725\n",
                        "Epoch 4/10\n",
                        "60000/60000 [==============================] - 20s 341us/sample - loss: 0.0544 - sparse_categorical_accuracy: 0.9835 - val_loss: 0.0876 - val_sparse_categorical_accuracy: 0.9737\n",
                        "Epoch 5/10\n",
                        "60000/60000 [==============================] - 20s 338us/sample - loss: 0.0400 - sparse_categorical_accuracy: 0.9880 - val_loss: 0.0772 - val_sparse_categorical_accuracy: 0.9758\n",
                        "Epoch 6/10\n",
                        "60000/60000 [==============================] - 21s 345us/sample - loss: 0.0298 - sparse_categorical_accuracy: 0.9910 - val_loss: 0.0838 - val_sparse_categorical_accuracy: 0.9758\n",
                        "Epoch 7/10\n",
                        "60000/60000 [==============================] - 19s 315us/sample - loss: 0.0222 - sparse_categorical_accuracy: 0.9936 - val_loss: 0.0742 - val_sparse_categorical_accuracy: 0.9761\n",
                        "Epoch 8/10\n",
                        "60000/60000 [==============================] - 18s 297us/sample - loss: 0.0162 - sparse_categorical_accuracy: 0.9956 - val_loss: 0.0791 - val_sparse_categorical_accuracy: 0.9771\n",
                        "Epoch 9/10\n",
                        "60000/60000 [==============================] - 20s 326us/sample - loss: 0.0121 - sparse_categorical_accuracy: 0.9968 - val_loss: 0.0927 - val_sparse_categorical_accuracy: 0.9755\n",
                        "Epoch 10/10\n",
                        "60000/60000 [==============================] - 20s 328us/sample - loss: 0.0098 - sparse_categorical_accuracy: 0.9974 - val_loss: 0.0964 - val_sparse_categorical_accuracy: 0.9749\n"
                    ]
                },
                {
                    "output_type": "execute_result",
                    "data": {
                        "text/plain": [
                            "<tensorflow.python.keras.callbacks.History at 0x1b5c5eb8408>"
                        ]
                    },
                    "metadata": {},
                    "execution_count": 12
                }
            ],
            "metadata": {}
        },
        {
            "cell_type": "markdown",
            "source": [
                "![alt text](https://raw.githubusercontent.com/roouit/mnist-classification/master/accuracies.PNG \"Accuracies from Tensorboard\")\r\n",
                "\r\n",
                "Here are three models with 64, 128 and 256 neurons in the hidden layer trained for 10 epochs.\r\n",
                "\r\n",
                "The validation accuracies (blue and green colors) start to level off around 5 epochs, while training accuracies keep climbing (red colors) and overfitting data.\r\n",
                "\r\n",
                "The models aren't optimized at all, but the accuracies with 128 and 256 neurons get quickly over 97% even with very simple structure."
            ],
            "metadata": {}
        },
        {
            "cell_type": "markdown",
            "source": [
                "---\r\n",
                "## 4. Predicting with the model\r\n",
                "A prediction gives 10 values in a range(0,1) and max value of these represents the class index, which model has predicted the digit to be.\r\n",
                "\r\n",
                "We see that this digit 7 was correctly classified by the model."
            ],
            "metadata": {}
        },
        {
            "cell_type": "code",
            "execution_count": 13,
            "source": [
                "predictions = model.predict(x_test)\r\n",
                "print(predictions[0])\r\n",
                "\r\n",
                "plt.imshow(x_test[0], cmap=plt.cm.binary)\r\n",
                "plt.show()\r\n",
                "print(f'Correct label: {y_test[0]}')\r\n",
                "print(f'Predicted label: {np.argmax(predictions[0])}')"
            ],
            "outputs": [
                {
                    "output_type": "stream",
                    "name": "stdout",
                    "text": [
                        "[3.0704408e-11 3.4610685e-12 5.1625626e-10 1.2732695e-06 1.7175499e-17\n",
                        " 1.1502689e-12 2.4307475e-20 9.9999869e-01 1.2917901e-09 6.2972194e-10]\n"
                    ]
                },
                {
                    "output_type": "display_data",
                    "data": {
                        "image/png": "[encoded data removed]",
                        "text/plain": [
                            "<Figure size 432x288 with 1 Axes>"
                        ]
                    },
                    "metadata": {
                        "needs_background": "light"
                    }
                },
                {
                    "output_type": "stream",
                    "name": "stdout",
                    "text": [
                        "Correct label: 7\n",
                        "Predicted label: 7\n"
                    ]
                }
            ],
            "metadata": {}
        },
        {
            "cell_type": "markdown",
            "source": [
                "We can also take a look at some of the misclassified digits.\r\n",
                "\r\n",
                "After visualizing few of these, it's clear that some of these would be hard for even a human being. However, this model could still be improved significantly because there are clear mistakes."
            ],
            "metadata": {}
        },
        {
            "cell_type": "code",
            "execution_count": 16,
            "source": [
                "y_pred = np.argmax(predictions, axis=1)\r\n",
                "mask = y_pred != y_test\r\n",
                "print(f'Incorrectly labelled digits: {np.count_nonzero(mask)}')\r\n",
                "\r\n",
                "incorrect_indeces = np.where(mask)\r\n",
                "fig, axs = plt.subplots(1,5,figsize=(10,6))\r\n",
                "\r\n",
                "axs[0].imshow(x_test[incorrect_indeces[0][0]], cmap=plt.cm.binary)\r\n",
                "axs[1].imshow(x_test[incorrect_indeces[0][1]], cmap=plt.cm.binary)\r\n",
                "axs[2].imshow(x_test[incorrect_indeces[0][2]], cmap=plt.cm.binary)\r\n",
                "axs[3].imshow(x_test[incorrect_indeces[0][3]], cmap=plt.cm.binary)\r\n",
                "axs[4].imshow(x_test[incorrect_indeces[0][4]], cmap=plt.cm.binary)\r\n",
                "plt.show()\r\n",
                "\r\n",
                "print(f'Correct labels: {y_test[incorrect_indeces[0][0:5]]}')\r\n",
                "print(f'Predicted label: {y_pred[incorrect_indeces[0][0:5]]}')"
            ],
            "outputs": [
                {
                    "output_type": "stream",
                    "name": "stdout",
                    "text": [
                        "Incorrectly labelled digits: 251\n"
                    ]
                },
                {
                    "output_type": "display_data",
                    "data": {
                        "image/png": "[encoded data removed]",
                        "text/plain": [
                            "<Figure size 720x432 with 5 Axes>"
                        ]
                    },
                    "metadata": {
                        "needs_background": "light"
                    }
                },
                {
                    "output_type": "stream",
                    "name": "stdout",
                    "text": [
                        "Correct labels: [3 1 2 4 6]\n",
                        "Predicted label: [8 9 9 2 0]\n"
                    ]
                }
            ],
            "metadata": {}
        }
    ],
    "metadata": {
        "orig_nbformat": 4,
        "language_info": {
            "name": "python",
            "version": "3.7.10",
            "mimetype": "text/x-python",
            "codemirror_mode": {
                "name": "ipython",
                "version": 3
            },
            "pygments_lexer": "ipython3",
            "nbconvert_exporter": "python",
            "file_extension": ".py"
        },
        "kernelspec": {
            "name": "python3",
            "display_name": "Python 3.7.10 64-bit ('DLC-CPU': conda)"
        },
        "interpreter": {
            "hash": "dccace1444a57180b98cc4958720dd912bfeeda29231ec52c5ba31f7fa94fcd5"
        }
    },
    "nbformat": 4,
    "nbformat_minor": 2
}