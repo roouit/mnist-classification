{
    "cells": [
        {
            "cell_type": "markdown",
            "source": [
                "# **MNIST classification with feed forward neural network**\r\n",
                "### This is my *'Hello world'* for deep learning.\r\n",
                "### In this notebook I'll build a simple neural network model with Tensorflow and Keras and use it to classify the classic MNIST dataset. \r\n",
                "---\r\n",
                "## 1. Imports and loading data\r\n",
                "### The dataset is loaded from Keras API. The function `load_data()` returns the data partitioned to train and test datasets by default."
            ],
            "metadata": {}
        },
        {
            "cell_type": "code",
            "execution_count": 1,
            "source": [
                "from tensorflow.keras.callbacks import TensorBoard\r\n",
                "import tensorflow as tf\r\n",
                "import numpy as np\r\n",
                "from matplotlib import pyplot as plt\r\n",
                "from datetime import datetime\r\n",
                "\r\n",
                "(x_train, y_train), (x_test, y_test) = tf.keras.datasets.mnist.load_data()"
            ],
            "outputs": [
                {
                    "output_type": "stream",
                    "name": "stdout",
                    "text": [
                        "Downloading data from https://storage.googleapis.com/tensorflow/tf-keras-datasets/mnist.npz\n",
                        "11493376/11490434 [==============================] - 2s 0us/step\n"
                    ]
                }
            ],
            "metadata": {}
        },
        {
            "cell_type": "markdown",
            "source": [
                "---\r\n",
                "## 2. Data exploration and modification\r\n",
                "### From the shapes of data we see that n = 70000 and it's split to train (n = 60000) and test (n = 10000) datasets.\r\n",
                "### The feature data are tensors with each single data point being a 28x28 matrix. Label data are 1D arrays."
            ],
            "metadata": {}
        },
        {
            "cell_type": "code",
            "execution_count": 2,
            "source": [
                "print(f'x_train: {x_train.shape}')\r\n",
                "print(f'y_train: {y_train.shape}')\r\n",
                "print(f'x_test: {x_test.shape}')\r\n",
                "print(f'y_test: {y_test.shape}')"
            ],
            "outputs": [
                {
                    "output_type": "stream",
                    "name": "stdout",
                    "text": [
                        "x_train: (60000, 28, 28)\n",
                        "y_train: (60000,)\n",
                        "x_test: (10000, 28, 28)\n",
                        "y_test: (10000,)\n"
                    ]
                }
            ],
            "metadata": {}
        },
        {
            "cell_type": "markdown",
            "source": [
                "### When looking at a single data point we can see that the feature matrix is a bunch of integers between 0 and 255. This is actually obvious since the features are grayscale images of digits!\r\n",
                "\r\n",
                "### Labels are just simply integers telling which digit the image is representing."
            ],
            "metadata": {}
        },
        {
            "cell_type": "code",
            "execution_count": 3,
            "source": [
                "print(x_train[1])\r\n",
                "print(y_train[1])"
            ],
            "outputs": [
                {
                    "output_type": "stream",
                    "name": "stdout",
                    "text": [
                        "[[  0   0   0   0   0   0   0   0   0   0   0   0   0   0   0   0   0   0\n",
                        "    0   0   0   0   0   0   0   0   0   0]\n",
                        " [  0   0   0   0   0   0   0   0   0   0   0   0   0   0   0   0   0   0\n",
                        "    0   0   0   0   0   0   0   0   0   0]\n",
                        " [  0   0   0   0   0   0   0   0   0   0   0   0   0   0   0   0   0   0\n",
                        "    0   0   0   0   0   0   0   0   0   0]\n",
                        " [  0   0   0   0   0   0   0   0   0   0   0   0   0   0   0   0   0   0\n",
                        "    0   0   0   0   0   0   0   0   0   0]\n",
                        " [  0   0   0   0   0   0   0   0   0   0   0   0   0   0   0  51 159 253\n",
                        "  159  50   0   0   0   0   0   0   0   0]\n",
                        " [  0   0   0   0   0   0   0   0   0   0   0   0   0   0  48 238 252 252\n",
                        "  252 237   0   0   0   0   0   0   0   0]\n",
                        " [  0   0   0   0   0   0   0   0   0   0   0   0   0  54 227 253 252 239\n",
                        "  233 252  57   6   0   0   0   0   0   0]\n",
                        " [  0   0   0   0   0   0   0   0   0   0   0  10  60 224 252 253 252 202\n",
                        "   84 252 253 122   0   0   0   0   0   0]\n",
                        " [  0   0   0   0   0   0   0   0   0   0   0 163 252 252 252 253 252 252\n",
                        "   96 189 253 167   0   0   0   0   0   0]\n",
                        " [  0   0   0   0   0   0   0   0   0   0  51 238 253 253 190 114 253 228\n",
                        "   47  79 255 168   0   0   0   0   0   0]\n",
                        " [  0   0   0   0   0   0   0   0   0  48 238 252 252 179  12  75 121  21\n",
                        "    0   0 253 243  50   0   0   0   0   0]\n",
                        " [  0   0   0   0   0   0   0   0  38 165 253 233 208  84   0   0   0   0\n",
                        "    0   0 253 252 165   0   0   0   0   0]\n",
                        " [  0   0   0   0   0   0   0   7 178 252 240  71  19  28   0   0   0   0\n",
                        "    0   0 253 252 195   0   0   0   0   0]\n",
                        " [  0   0   0   0   0   0   0  57 252 252  63   0   0   0   0   0   0   0\n",
                        "    0   0 253 252 195   0   0   0   0   0]\n",
                        " [  0   0   0   0   0   0   0 198 253 190   0   0   0   0   0   0   0   0\n",
                        "    0   0 255 253 196   0   0   0   0   0]\n",
                        " [  0   0   0   0   0   0  76 246 252 112   0   0   0   0   0   0   0   0\n",
                        "    0   0 253 252 148   0   0   0   0   0]\n",
                        " [  0   0   0   0   0   0  85 252 230  25   0   0   0   0   0   0   0   0\n",
                        "    7 135 253 186  12   0   0   0   0   0]\n",
                        " [  0   0   0   0   0   0  85 252 223   0   0   0   0   0   0   0   0   7\n",
                        "  131 252 225  71   0   0   0   0   0   0]\n",
                        " [  0   0   0   0   0   0  85 252 145   0   0   0   0   0   0   0  48 165\n",
                        "  252 173   0   0   0   0   0   0   0   0]\n",
                        " [  0   0   0   0   0   0  86 253 225   0   0   0   0   0   0 114 238 253\n",
                        "  162   0   0   0   0   0   0   0   0   0]\n",
                        " [  0   0   0   0   0   0  85 252 249 146  48  29  85 178 225 253 223 167\n",
                        "   56   0   0   0   0   0   0   0   0   0]\n",
                        " [  0   0   0   0   0   0  85 252 252 252 229 215 252 252 252 196 130   0\n",
                        "    0   0   0   0   0   0   0   0   0   0]\n",
                        " [  0   0   0   0   0   0  28 199 252 252 253 252 252 233 145   0   0   0\n",
                        "    0   0   0   0   0   0   0   0   0   0]\n",
                        " [  0   0   0   0   0   0   0  25 128 252 253 252 141  37   0   0   0   0\n",
                        "    0   0   0   0   0   0   0   0   0   0]\n",
                        " [  0   0   0   0   0   0   0   0   0   0   0   0   0   0   0   0   0   0\n",
                        "    0   0   0   0   0   0   0   0   0   0]\n",
                        " [  0   0   0   0   0   0   0   0   0   0   0   0   0   0   0   0   0   0\n",
                        "    0   0   0   0   0   0   0   0   0   0]\n",
                        " [  0   0   0   0   0   0   0   0   0   0   0   0   0   0   0   0   0   0\n",
                        "    0   0   0   0   0   0   0   0   0   0]\n",
                        " [  0   0   0   0   0   0   0   0   0   0   0   0   0   0   0   0   0   0\n",
                        "    0   0   0   0   0   0   0   0   0   0]]\n",
                        "0\n"
                    ]
                }
            ],
            "metadata": {}
        },
        {
            "cell_type": "markdown",
            "source": [
                "### In machine learning, and in scientific computing in general, it's important to remove any biases affecting the outcome of the model. Sometimes different numerical scales in features can lead to one feature dominating the model. This is also true for feature data fed into a neural network.\r\n",
                "\r\n",
                "### The feature data is normalized here with a built-in function `normalize()`. In this case, we would've gotten the same result by dividing the data by 255. This way the feature data is normalized between 0 and 1."
            ],
            "metadata": {}
        },
        {
            "cell_type": "code",
            "execution_count": 4,
            "source": [
                "x_train = tf.keras.utils.normalize(x_train, axis=1)\r\n",
                "x_test = tf.keras.utils.normalize(x_test, axis=1)\r\n",
                "# 97,69% 94,80%\r\n",
                "print(x_train[1])"
            ],
            "outputs": [
                {
                    "output_type": "stream",
                    "name": "stdout",
                    "text": [
                        "[[0.         0.         0.         0.         0.         0.\n",
                        "  0.         0.         0.         0.         0.         0.\n",
                        "  0.         0.         0.         0.         0.         0.\n",
                        "  0.         0.         0.         0.         0.         0.\n",
                        "  0.         0.         0.         0.        ]\n",
                        " [0.         0.         0.         0.         0.         0.\n",
                        "  0.         0.         0.         0.         0.         0.\n",
                        "  0.         0.         0.         0.         0.         0.\n",
                        "  0.         0.         0.         0.         0.         0.\n",
                        "  0.         0.         0.         0.        ]\n",
                        " [0.         0.         0.         0.         0.         0.\n",
                        "  0.         0.         0.         0.         0.         0.\n",
                        "  0.         0.         0.         0.         0.         0.\n",
                        "  0.         0.         0.         0.         0.         0.\n",
                        "  0.         0.         0.         0.        ]\n",
                        " [0.         0.         0.         0.         0.         0.\n",
                        "  0.         0.         0.         0.         0.         0.\n",
                        "  0.         0.         0.         0.         0.         0.\n",
                        "  0.         0.         0.         0.         0.         0.\n",
                        "  0.         0.         0.         0.        ]\n",
                        " [0.         0.         0.         0.         0.         0.\n",
                        "  0.         0.         0.         0.         0.         0.\n",
                        "  0.         0.         0.         0.08216044 0.2286589  0.3728098\n",
                        "  0.30506548 0.08583808 0.         0.         0.         0.\n",
                        "  0.         0.         0.         0.        ]\n",
                        " [0.         0.         0.         0.         0.         0.\n",
                        "  0.         0.         0.         0.         0.         0.\n",
                        "  0.         0.         0.08087653 0.38341541 0.36240278 0.37133624\n",
                        "  0.48350001 0.4068725  0.         0.         0.         0.\n",
                        "  0.         0.         0.         0.        ]\n",
                        " [0.         0.         0.         0.         0.         0.\n",
                        "  0.         0.         0.         0.         0.         0.\n",
                        "  0.         0.08861609 0.3824786  0.40758025 0.36240278 0.35218\n",
                        "  0.44704564 0.43262392 0.06832372 0.00859123 0.         0.\n",
                        "  0.         0.         0.         0.        ]\n",
                        " [0.         0.         0.         0.         0.         0.\n",
                        "  0.         0.         0.         0.         0.         0.01621743\n",
                        "  0.095788   0.36759266 0.42460179 0.40758025 0.36240278 0.29765841\n",
                        "  0.16116667 0.43262392 0.30326141 0.17468832 0.         0.\n",
                        "  0.         0.         0.         0.        ]\n",
                        " [0.         0.         0.         0.         0.         0.\n",
                        "  0.         0.         0.         0.         0.         0.26434406\n",
                        "  0.4023096  0.41354174 0.42460179 0.40758025 0.36240278 0.37133624\n",
                        "  0.18419048 0.32446794 0.30326141 0.23912253 0.         0.\n",
                        "  0.         0.         0.         0.        ]\n",
                        " [0.         0.         0.         0.         0.         0.\n",
                        "  0.         0.         0.         0.         0.08411834 0.38597476\n",
                        "  0.40390606 0.41518278 0.32013627 0.18365276 0.36384089 0.33597088\n",
                        "  0.09017659 0.13562417 0.30565873 0.2405544  0.         0.\n",
                        "  0.         0.         0.         0.        ]\n",
                        " [0.         0.         0.         0.         0.         0.\n",
                        "  0.         0.         0.         0.07427511 0.39255225 0.40867916\n",
                        "  0.4023096  0.29374592 0.02021913 0.12082418 0.17401086 0.03094469\n",
                        "  0.         0.         0.30326141 0.34794476 0.12263192 0.\n",
                        "  0.         0.         0.         0.        ]\n",
                        " [0.         0.         0.         0.         0.         0.\n",
                        "  0.         0.         0.04890249 0.2553207  0.41729294 0.37786605\n",
                        "  0.33206506 0.13784725 0.         0.         0.         0.\n",
                        "  0.         0.         0.30326141 0.36083161 0.40468535 0.\n",
                        "  0.         0.         0.         0.        ]\n",
                        " [0.         0.         0.         0.         0.         0.\n",
                        "  0.         0.00966301 0.22906954 0.38994434 0.39585101 0.11514373\n",
                        "  0.03033287 0.04594908 0.         0.         0.         0.\n",
                        "  0.         0.         0.30326141 0.36083161 0.47826451 0.\n",
                        "  0.         0.         0.         0.        ]\n",
                        " [0.         0.         0.         0.         0.         0.\n",
                        "  0.         0.07868449 0.32430069 0.38994434 0.10391089 0.\n",
                        "  0.         0.         0.         0.         0.         0.\n",
                        "  0.         0.         0.30326141 0.36083161 0.47826451 0.\n",
                        "  0.         0.         0.         0.        ]\n",
                        " [0.         0.         0.         0.         0.         0.\n",
                        "  0.         0.27332506 0.3255876  0.29400565 0.         0.\n",
                        "  0.         0.         0.         0.         0.         0.\n",
                        "  0.         0.         0.30565873 0.36226348 0.48071715 0.\n",
                        "  0.         0.         0.         0.        ]\n",
                        " [0.         0.         0.         0.         0.         0.\n",
                        "  0.33960736 0.33958568 0.32430069 0.17330859 0.         0.\n",
                        "  0.         0.         0.         0.         0.         0.\n",
                        "  0.         0.         0.30326141 0.36083161 0.3629905  0.\n",
                        "  0.         0.         0.         0.        ]\n",
                        " [0.         0.         0.         0.         0.         0.\n",
                        "  0.37982402 0.34786826 0.29598873 0.03868495 0.         0.\n",
                        "  0.         0.         0.         0.         0.         0.\n",
                        "  0.01343056 0.23176282 0.30326141 0.26632809 0.02943166 0.\n",
                        "  0.         0.         0.         0.        ]\n",
                        " [0.         0.         0.         0.         0.         0.\n",
                        "  0.37982402 0.34786826 0.28698037 0.         0.         0.\n",
                        "  0.         0.         0.         0.         0.         0.0103149\n",
                        "  0.25134326 0.43262392 0.26969888 0.10166287 0.         0.\n",
                        "  0.         0.         0.         0.        ]\n",
                        " [0.         0.         0.         0.         0.         0.\n",
                        "  0.37982402 0.34786826 0.18660159 0.         0.         0.\n",
                        "  0.         0.         0.         0.         0.0690291  0.24313682\n",
                        "  0.48350001 0.29699976 0.         0.         0.         0.\n",
                        "  0.         0.         0.         0.        ]\n",
                        " [0.         0.         0.         0.         0.         0.\n",
                        "  0.38429254 0.34924869 0.28955419 0.         0.         0.\n",
                        "  0.         0.         0.         0.18365276 0.34226929 0.3728098\n",
                        "  0.31082143 0.         0.         0.         0.         0.\n",
                        "  0.         0.         0.         0.        ]\n",
                        " [0.         0.         0.         0.         0.         0.\n",
                        "  0.37982402 0.34786826 0.32043997 0.22592013 0.0791702  0.04703054\n",
                        "  0.13569967 0.29210488 0.37910874 0.40758025 0.3206977  0.24608394\n",
                        "  0.10744445 0.         0.         0.         0.         0.\n",
                        "  0.         0.         0.         0.        ]\n",
                        " [0.         0.         0.         0.         0.         0.\n",
                        "  0.37982402 0.34786826 0.32430069 0.38994434 0.37770784 0.34867468\n",
                        "  0.4023096  0.41354174 0.42460179 0.31575387 0.18695382 0.\n",
                        "  0.         0.         0.         0.         0.         0.\n",
                        "  0.         0.         0.         0.        ]\n",
                        " [0.         0.         0.         0.         0.         0.\n",
                        "  0.1251185  0.27470549 0.32430069 0.38994434 0.41729294 0.40867916\n",
                        "  0.4023096  0.38236201 0.24431452 0.         0.         0.\n",
                        "  0.         0.         0.         0.         0.         0.\n",
                        "  0.         0.         0.         0.        ]\n",
                        " [0.         0.         0.         0.         0.         0.\n",
                        "  0.         0.03451074 0.16472416 0.38994434 0.41729294 0.40867916\n",
                        "  0.2251018  0.06071843 0.         0.         0.         0.\n",
                        "  0.         0.         0.         0.         0.         0.\n",
                        "  0.         0.         0.         0.        ]\n",
                        " [0.         0.         0.         0.         0.         0.\n",
                        "  0.         0.         0.         0.         0.         0.\n",
                        "  0.         0.         0.         0.         0.         0.\n",
                        "  0.         0.         0.         0.         0.         0.\n",
                        "  0.         0.         0.         0.        ]\n",
                        " [0.         0.         0.         0.         0.         0.\n",
                        "  0.         0.         0.         0.         0.         0.\n",
                        "  0.         0.         0.         0.         0.         0.\n",
                        "  0.         0.         0.         0.         0.         0.\n",
                        "  0.         0.         0.         0.        ]\n",
                        " [0.         0.         0.         0.         0.         0.\n",
                        "  0.         0.         0.         0.         0.         0.\n",
                        "  0.         0.         0.         0.         0.         0.\n",
                        "  0.         0.         0.         0.         0.         0.\n",
                        "  0.         0.         0.         0.        ]\n",
                        " [0.         0.         0.         0.         0.         0.\n",
                        "  0.         0.         0.         0.         0.         0.\n",
                        "  0.         0.         0.         0.         0.         0.\n",
                        "  0.         0.         0.         0.         0.         0.\n",
                        "  0.         0.         0.         0.        ]]\n"
                    ]
                }
            ],
            "metadata": {}
        },
        {
            "cell_type": "markdown",
            "source": [
                "With default settings in pyplots `imshow()` function the grayscale digit is plotted with 'viridis' colormap. By setting the colormap to 'binary' we can see the digit plotted as black-in-white text.\r\n",
                "\r\n",
                "By printing the correct label we can verify that this is indeed a digit '0'."
            ],
            "metadata": {}
        },
        {
            "cell_type": "code",
            "execution_count": 5,
            "source": [
                "fig, axs = plt.subplots(1,2)\r\n",
                "axs[0].imshow(x_train[1])\r\n",
                "axs[1].imshow(x_train[1], cmap=plt.cm.binary)\r\n",
                "plt.show()\r\n",
                "\r\n",
                "print(f'The correct label is: {y_train[1]}')"
            ],
            "outputs": [
                {
                    "output_type": "display_data",
                    "data": {
                        "text/plain": [
                            "<Figure size 432x288 with 2 Axes>"
                        ],
                        "image/svg+xml": "<?xml version=\"1.0\" encoding=\"utf-8\" standalone=\"no\"?>\r\n<!DOCTYPE svg PUBLIC \"-//W3C//DTD SVG 1.1//EN\"\r\n  \"http://www.w3.org/Graphics/SVG/1.1/DTD/svg11.dtd\">\r\n<!-- Created with matplotlib (https://matplotlib.org/) -->\r\n<svg height=\"184.341629pt\" version=\"1.1\" viewBox=\"0 0 368.925 184.341629\" width=\"368.925pt\" xmlns=\"http://www.w3.org/2000/svg\" xmlns:xlink=\"http://www.w3.org/1999/xlink\">\r\n <defs>\r\n  <style type=\"text/css\">\r\n*{stroke-linecap:butt;stroke-linejoin:round;}\r\n  </style>\r\n </defs>\r\n <g id=\"figure_1\">\r\n  <g id=\"patch_1\">\r\n   <path d=\"M -0 184.341629 \r\nL 368.925 184.341629 \r\nL 368.925 0 \r\nL -0 0 \r\nz\r\n\" style=\"fill:none;\"/>\r\n  </g>\r\n  <g id=\"axes_1\">\r\n   <g id=\"patch_2\">\r\n    <path d=\"M 26.925 160.463504 \r\nL 179.106818 160.463504 \r\nL 179.106818 8.281686 \r\nL 26.925 8.281686 \r\nz\r\n\" style=\"fill:#ffffff;\"/>\r\n   </g>\r\n   <g clip-path=\"url(#p61c1d7ef2c)\">\r\n    <image height=\"153\" id=\"image8a6bac6cd7\" transform=\"scale(1 -1)translate(0 -153)\" width=\"153\" x=\"26.925\" xlink:href=\"data:image/png;base64,\r\niVBORw0KGgoAAAANSUhEUgAAAJkAAACZCAYAAAA8XJi6AAAABHNCSVQICAgIfAhkiAAABjVJREFUeJzt3ctvVVUYxuF1OC2UFooIQlsupVhaUIMEEJA0MVoNiGIHGjAxxpgYlYHG1MQEdUJg4ACcQJQgQQeaECIRB1y8gBCRSxDSqlwFe4RyKQWB0pZbe45/wPed2kpfuk/5PcM33w47+LqyN2t3NfZk7IVUAIT69PQNoPejZJCjZJCjZJCjZJCjZJCjZJCjZJCjZJCjZJCjZJCjZJCjZJCjZJCjZJCjZJCjZJCjZJCjZJCjZJCjZJDL6ukbSCersMDNz1aVmKxqwQ53tjSnwWQtyX7u7NINVfb6L/8xWfvBo+71SI+VDHKUDHKUDHKUDHKRePBveX66yU4/2+bOFhScl9zDW89tMln97MEm+3rHDPf60nf2dPs99RasZJCjZJCjZJCjZJCjZJCLReEQvIkHYib78+owd7ahdYDJZhcddmcvteWaLNE8xJ2tHHrEZAPj10x2T7zVvX7xkTkmu7V9qDtbuGyXm/dWrGSQo2SQo2SQo2SQy7gH/zPN+Sa7/Jv/gF3yTbPJshqb3NlL0wtNdqHKPvjPLfvdvX5cf/vt2pq6me7sheP25aN4c7s723fLPjfPJKxkkKNkkKNkkKNkkKNkkIvER4vZMf/NynPpSp7Jxi7c3enr/U8hQxhY97fN1tq5P9Jc/0O1/WmnkXMT7uy0mSdN9nPxWHe2YEuaPzCDsJJBjpJBjpJBjpJBLhIP/rdS8U7P9t9vvxGLgsKP7TdiqW0PuLObXxltshPzV7qz49e9bLLief7WVlSxkkGOkkGOkkGOkkGOkkEuEm+XXdE62X5IGFXJmkNuPu6wPYhvbPYb7uxnT6822WurX3VnS9ba70+zf9zf0S3eEaxkkKNkkKNkkKNkkMu4B/94lv32LGvkCHe2rf60+nb+l9SNGyYrf8/fKnqz5XWT5Zb6P3FVN99uuU2ovc+dbW9s7OgWuxUrGeQoGeQoGeQoGeQoGeQicRZG2Dqy06NNN+2WzPWNw93ZYSt652Fz9esfdPMpRadMFo/5/3nPzLjarffUEVYyyFEyyFEyyFEyyEVjW6my3kTH1kx1R4uK7C86bamwh92FEEJYcVt3FVkxe2ZgWqtH+b9wdk6Y3E13899YySBHySBHySBHySBHySAXjbdLR9lK+2FfCCE0LbKvVi9N+NWd3T7LHnHe9zt/NpOkurARmAw9v2vISgY5SgY5SgY5Sga5yD74x2qPufmFWmc7JM0vVZ291G6pbMp+3J3N25ew95Db32RtzinZ6BgrGeQoGeQoGeQoGeQi++Dv/Sh/CCGUrTprsi/yK9zZJZXrTTZ1kf8v/vsv2hOpb3xeYLL8DHvwX3VlTE/fAisZ9CgZ5CgZ5CgZ5CgZ5CL7dplO218Jk5WvGeDO1lXYA+DKc8+5s2NyLppsedVjJhu8Md+9vvmJ8SZrGuX/9RatO26y9obz7mxXNN2022BrP5jjzuaGvbf953UWKxnkKBnkKBnkKBnkonE+mUhq5sMmm/bJAXd2eLY9UXpQvMVkK07436Nd32pfMqak+eWnJ5sHm6zPoiHubMsIex5b0zz/bLFriYEmK63e487eSaxkkKNkkKNkkKNkkKNkkMu4baWuiO2qNdlXe2e4s9UV35ss6fw/+H7ZZvf6cyWDTLbryv3ubPkgu4W08xH/BPC8pxpMlmrNcWfTHHTd41jJIEfJIEfJIEfJINerH/w946sPufm30ypNVvLRUZM9c699meiqbXXjTJbX7D+1LynbYLK3a150ZwckorlmRPOu0KtQMshRMshRMshRMsjddW+XyRb7IWIIIcR/sh8zJt6dZLLdy/3rS/o1dvoeHiq053l8uHCjO3sxmWuy0Yv9N9HUQXvORxR2mljJIEfJIEfJIEfJIHfXPfh3RZ+dNSarWTDRnY1/amfTGZZjfwnspH72p5JCCGHlZXsQX7LG3xqLKlYyyFEyyFEyyFEyyFEyyPXqszDupNSj9tyNuiq7JRRCCLMq7RbW9lOl7mzRsmyTxX7p/JtsFLCSQY6SQY6SQY6SQY4Hf8ixkkGOkkGOkkGOkkGOkkGOkkGOkkGOkkGOkkGOkkGOkkGOkkGOkkGOkkGOkkGOkkGOkkGOkkGOkkGOkkGOkkHuX8A2J7ulzHShAAAAAElFTkSuQmCC\" y=\"-7.463504\"/>\r\n   </g>\r\n   <g id=\"matplotlib.axis_1\">\r\n    <g id=\"xtick_1\">\r\n     <g id=\"line2d_1\">\r\n      <defs>\r\n       <path d=\"M 0 0 \r\nL 0 3.5 \r\n\" id=\"m25cbbba18a\" style=\"stroke:#000000;stroke-width:0.8;\"/>\r\n      </defs>\r\n      <g>\r\n       <use style=\"stroke:#000000;stroke-width:0.8;\" x=\"29.642532\" xlink:href=\"#m25cbbba18a\" y=\"160.463504\"/>\r\n      </g>\r\n     </g>\r\n     <g id=\"text_1\">\r\n      <!-- 0 -->\r\n      <defs>\r\n       <path d=\"M 31.78125 66.40625 \r\nQ 24.171875 66.40625 20.328125 58.90625 \r\nQ 16.5 51.421875 16.5 36.375 \r\nQ 16.5 21.390625 20.328125 13.890625 \r\nQ 24.171875 6.390625 31.78125 6.390625 \r\nQ 39.453125 6.390625 43.28125 13.890625 \r\nQ 47.125 21.390625 47.125 36.375 \r\nQ 47.125 51.421875 43.28125 58.90625 \r\nQ 39.453125 66.40625 31.78125 66.40625 \r\nz\r\nM 31.78125 74.21875 \r\nQ 44.046875 74.21875 50.515625 64.515625 \r\nQ 56.984375 54.828125 56.984375 36.375 \r\nQ 56.984375 17.96875 50.515625 8.265625 \r\nQ 44.046875 -1.421875 31.78125 -1.421875 \r\nQ 19.53125 -1.421875 13.0625 8.265625 \r\nQ 6.59375 17.96875 6.59375 36.375 \r\nQ 6.59375 54.828125 13.0625 64.515625 \r\nQ 19.53125 74.21875 31.78125 74.21875 \r\nz\r\n\" id=\"DejaVuSans-48\"/>\r\n      </defs>\r\n      <g transform=\"translate(26.461282 175.061942)scale(0.1 -0.1)\">\r\n       <use xlink:href=\"#DejaVuSans-48\"/>\r\n      </g>\r\n     </g>\r\n    </g>\r\n    <g id=\"xtick_2\">\r\n     <g id=\"line2d_2\">\r\n      <g>\r\n       <use style=\"stroke:#000000;stroke-width:0.8;\" x=\"83.993182\" xlink:href=\"#m25cbbba18a\" y=\"160.463504\"/>\r\n      </g>\r\n     </g>\r\n     <g id=\"text_2\">\r\n      <!-- 10 -->\r\n      <defs>\r\n       <path d=\"M 12.40625 8.296875 \r\nL 28.515625 8.296875 \r\nL 28.515625 63.921875 \r\nL 10.984375 60.40625 \r\nL 10.984375 69.390625 \r\nL 28.421875 72.90625 \r\nL 38.28125 72.90625 \r\nL 38.28125 8.296875 \r\nL 54.390625 8.296875 \r\nL 54.390625 0 \r\nL 12.40625 0 \r\nz\r\n\" id=\"DejaVuSans-49\"/>\r\n      </defs>\r\n      <g transform=\"translate(77.630682 175.061942)scale(0.1 -0.1)\">\r\n       <use xlink:href=\"#DejaVuSans-49\"/>\r\n       <use x=\"63.623047\" xlink:href=\"#DejaVuSans-48\"/>\r\n      </g>\r\n     </g>\r\n    </g>\r\n    <g id=\"xtick_3\">\r\n     <g id=\"line2d_3\">\r\n      <g>\r\n       <use style=\"stroke:#000000;stroke-width:0.8;\" x=\"138.343831\" xlink:href=\"#m25cbbba18a\" y=\"160.463504\"/>\r\n      </g>\r\n     </g>\r\n     <g id=\"text_3\">\r\n      <!-- 20 -->\r\n      <defs>\r\n       <path d=\"M 19.1875 8.296875 \r\nL 53.609375 8.296875 \r\nL 53.609375 0 \r\nL 7.328125 0 \r\nL 7.328125 8.296875 \r\nQ 12.9375 14.109375 22.625 23.890625 \r\nQ 32.328125 33.6875 34.8125 36.53125 \r\nQ 39.546875 41.84375 41.421875 45.53125 \r\nQ 43.3125 49.21875 43.3125 52.78125 \r\nQ 43.3125 58.59375 39.234375 62.25 \r\nQ 35.15625 65.921875 28.609375 65.921875 \r\nQ 23.96875 65.921875 18.8125 64.3125 \r\nQ 13.671875 62.703125 7.8125 59.421875 \r\nL 7.8125 69.390625 \r\nQ 13.765625 71.78125 18.9375 73 \r\nQ 24.125 74.21875 28.421875 74.21875 \r\nQ 39.75 74.21875 46.484375 68.546875 \r\nQ 53.21875 62.890625 53.21875 53.421875 \r\nQ 53.21875 48.921875 51.53125 44.890625 \r\nQ 49.859375 40.875 45.40625 35.40625 \r\nQ 44.1875 33.984375 37.640625 27.21875 \r\nQ 31.109375 20.453125 19.1875 8.296875 \r\nz\r\n\" id=\"DejaVuSans-50\"/>\r\n      </defs>\r\n      <g transform=\"translate(131.981331 175.061942)scale(0.1 -0.1)\">\r\n       <use xlink:href=\"#DejaVuSans-50\"/>\r\n       <use x=\"63.623047\" xlink:href=\"#DejaVuSans-48\"/>\r\n      </g>\r\n     </g>\r\n    </g>\r\n   </g>\r\n   <g id=\"matplotlib.axis_2\">\r\n    <g id=\"ytick_1\">\r\n     <g id=\"line2d_4\">\r\n      <defs>\r\n       <path d=\"M 0 0 \r\nL -3.5 0 \r\n\" id=\"m04ad9618a4\" style=\"stroke:#000000;stroke-width:0.8;\"/>\r\n      </defs>\r\n      <g>\r\n       <use style=\"stroke:#000000;stroke-width:0.8;\" x=\"26.925\" xlink:href=\"#m04ad9618a4\" y=\"10.999219\"/>\r\n      </g>\r\n     </g>\r\n     <g id=\"text_4\">\r\n      <!-- 0 -->\r\n      <g transform=\"translate(13.5625 14.798437)scale(0.1 -0.1)\">\r\n       <use xlink:href=\"#DejaVuSans-48\"/>\r\n      </g>\r\n     </g>\r\n    </g>\r\n    <g id=\"ytick_2\">\r\n     <g id=\"line2d_5\">\r\n      <g>\r\n       <use style=\"stroke:#000000;stroke-width:0.8;\" x=\"26.925\" xlink:href=\"#m04ad9618a4\" y=\"38.174543\"/>\r\n      </g>\r\n     </g>\r\n     <g id=\"text_5\">\r\n      <!-- 5 -->\r\n      <defs>\r\n       <path d=\"M 10.796875 72.90625 \r\nL 49.515625 72.90625 \r\nL 49.515625 64.59375 \r\nL 19.828125 64.59375 \r\nL 19.828125 46.734375 \r\nQ 21.96875 47.46875 24.109375 47.828125 \r\nQ 26.265625 48.1875 28.421875 48.1875 \r\nQ 40.625 48.1875 47.75 41.5 \r\nQ 54.890625 34.8125 54.890625 23.390625 \r\nQ 54.890625 11.625 47.5625 5.09375 \r\nQ 40.234375 -1.421875 26.90625 -1.421875 \r\nQ 22.3125 -1.421875 17.546875 -0.640625 \r\nQ 12.796875 0.140625 7.71875 1.703125 \r\nL 7.71875 11.625 \r\nQ 12.109375 9.234375 16.796875 8.0625 \r\nQ 21.484375 6.890625 26.703125 6.890625 \r\nQ 35.15625 6.890625 40.078125 11.328125 \r\nQ 45.015625 15.765625 45.015625 23.390625 \r\nQ 45.015625 31 40.078125 35.4375 \r\nQ 35.15625 39.890625 26.703125 39.890625 \r\nQ 22.75 39.890625 18.8125 39.015625 \r\nQ 14.890625 38.140625 10.796875 36.28125 \r\nz\r\n\" id=\"DejaVuSans-53\"/>\r\n      </defs>\r\n      <g transform=\"translate(13.5625 41.973762)scale(0.1 -0.1)\">\r\n       <use xlink:href=\"#DejaVuSans-53\"/>\r\n      </g>\r\n     </g>\r\n    </g>\r\n    <g id=\"ytick_3\">\r\n     <g id=\"line2d_6\">\r\n      <g>\r\n       <use style=\"stroke:#000000;stroke-width:0.8;\" x=\"26.925\" xlink:href=\"#m04ad9618a4\" y=\"65.349868\"/>\r\n      </g>\r\n     </g>\r\n     <g id=\"text_6\">\r\n      <!-- 10 -->\r\n      <g transform=\"translate(7.2 69.149087)scale(0.1 -0.1)\">\r\n       <use xlink:href=\"#DejaVuSans-49\"/>\r\n       <use x=\"63.623047\" xlink:href=\"#DejaVuSans-48\"/>\r\n      </g>\r\n     </g>\r\n    </g>\r\n    <g id=\"ytick_4\">\r\n     <g id=\"line2d_7\">\r\n      <g>\r\n       <use style=\"stroke:#000000;stroke-width:0.8;\" x=\"26.925\" xlink:href=\"#m04ad9618a4\" y=\"92.525193\"/>\r\n      </g>\r\n     </g>\r\n     <g id=\"text_7\">\r\n      <!-- 15 -->\r\n      <g transform=\"translate(7.2 96.324412)scale(0.1 -0.1)\">\r\n       <use xlink:href=\"#DejaVuSans-49\"/>\r\n       <use x=\"63.623047\" xlink:href=\"#DejaVuSans-53\"/>\r\n      </g>\r\n     </g>\r\n    </g>\r\n    <g id=\"ytick_5\">\r\n     <g id=\"line2d_8\">\r\n      <g>\r\n       <use style=\"stroke:#000000;stroke-width:0.8;\" x=\"26.925\" xlink:href=\"#m04ad9618a4\" y=\"119.700517\"/>\r\n      </g>\r\n     </g>\r\n     <g id=\"text_8\">\r\n      <!-- 20 -->\r\n      <g transform=\"translate(7.2 123.499736)scale(0.1 -0.1)\">\r\n       <use xlink:href=\"#DejaVuSans-50\"/>\r\n       <use x=\"63.623047\" xlink:href=\"#DejaVuSans-48\"/>\r\n      </g>\r\n     </g>\r\n    </g>\r\n    <g id=\"ytick_6\">\r\n     <g id=\"line2d_9\">\r\n      <g>\r\n       <use style=\"stroke:#000000;stroke-width:0.8;\" x=\"26.925\" xlink:href=\"#m04ad9618a4\" y=\"146.875842\"/>\r\n      </g>\r\n     </g>\r\n     <g id=\"text_9\">\r\n      <!-- 25 -->\r\n      <g transform=\"translate(7.2 150.675061)scale(0.1 -0.1)\">\r\n       <use xlink:href=\"#DejaVuSans-50\"/>\r\n       <use x=\"63.623047\" xlink:href=\"#DejaVuSans-53\"/>\r\n      </g>\r\n     </g>\r\n    </g>\r\n   </g>\r\n   <g id=\"patch_3\">\r\n    <path d=\"M 26.925 160.463504 \r\nL 26.925 8.281686 \r\n\" style=\"fill:none;stroke:#000000;stroke-linecap:square;stroke-linejoin:miter;stroke-width:0.8;\"/>\r\n   </g>\r\n   <g id=\"patch_4\">\r\n    <path d=\"M 179.106818 160.463504 \r\nL 179.106818 8.281686 \r\n\" style=\"fill:none;stroke:#000000;stroke-linecap:square;stroke-linejoin:miter;stroke-width:0.8;\"/>\r\n   </g>\r\n   <g id=\"patch_5\">\r\n    <path d=\"M 26.925 160.463504 \r\nL 179.106818 160.463504 \r\n\" style=\"fill:none;stroke:#000000;stroke-linecap:square;stroke-linejoin:miter;stroke-width:0.8;\"/>\r\n   </g>\r\n   <g id=\"patch_6\">\r\n    <path d=\"M 26.925 8.281686 \r\nL 179.106818 8.281686 \r\n\" style=\"fill:none;stroke:#000000;stroke-linecap:square;stroke-linejoin:miter;stroke-width:0.8;\"/>\r\n   </g>\r\n  </g>\r\n  <g id=\"axes_2\">\r\n   <g id=\"patch_7\">\r\n    <path d=\"M 209.543182 160.463504 \r\nL 361.725 160.463504 \r\nL 361.725 8.281686 \r\nL 209.543182 8.281686 \r\nz\r\n\" style=\"fill:#ffffff;\"/>\r\n   </g>\r\n   <g clip-path=\"url(#p91ac6417c4)\">\r\n    <image height=\"153\" id=\"image76a3a8bb58\" transform=\"scale(1 -1)translate(0 -153)\" width=\"153\" x=\"209.543182\" xlink:href=\"data:image/png;base64,\r\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\" y=\"-7.463504\"/>\r\n   </g>\r\n   <g id=\"matplotlib.axis_3\">\r\n    <g id=\"xtick_4\">\r\n     <g id=\"line2d_10\">\r\n      <g>\r\n       <use style=\"stroke:#000000;stroke-width:0.8;\" x=\"212.260714\" xlink:href=\"#m25cbbba18a\" y=\"160.463504\"/>\r\n      </g>\r\n     </g>\r\n     <g id=\"text_10\">\r\n      <!-- 0 -->\r\n      <g transform=\"translate(209.079464 175.061942)scale(0.1 -0.1)\">\r\n       <use xlink:href=\"#DejaVuSans-48\"/>\r\n      </g>\r\n     </g>\r\n    </g>\r\n    <g id=\"xtick_5\">\r\n     <g id=\"line2d_11\">\r\n      <g>\r\n       <use style=\"stroke:#000000;stroke-width:0.8;\" x=\"266.611364\" xlink:href=\"#m25cbbba18a\" y=\"160.463504\"/>\r\n      </g>\r\n     </g>\r\n     <g id=\"text_11\">\r\n      <!-- 10 -->\r\n      <g transform=\"translate(260.248864 175.061942)scale(0.1 -0.1)\">\r\n       <use xlink:href=\"#DejaVuSans-49\"/>\r\n       <use x=\"63.623047\" xlink:href=\"#DejaVuSans-48\"/>\r\n      </g>\r\n     </g>\r\n    </g>\r\n    <g id=\"xtick_6\">\r\n     <g id=\"line2d_12\">\r\n      <g>\r\n       <use style=\"stroke:#000000;stroke-width:0.8;\" x=\"320.962013\" xlink:href=\"#m25cbbba18a\" y=\"160.463504\"/>\r\n      </g>\r\n     </g>\r\n     <g id=\"text_12\">\r\n      <!-- 20 -->\r\n      <g transform=\"translate(314.599513 175.061942)scale(0.1 -0.1)\">\r\n       <use xlink:href=\"#DejaVuSans-50\"/>\r\n       <use x=\"63.623047\" xlink:href=\"#DejaVuSans-48\"/>\r\n      </g>\r\n     </g>\r\n    </g>\r\n   </g>\r\n   <g id=\"matplotlib.axis_4\">\r\n    <g id=\"ytick_7\">\r\n     <g id=\"line2d_13\">\r\n      <g>\r\n       <use style=\"stroke:#000000;stroke-width:0.8;\" x=\"209.543182\" xlink:href=\"#m04ad9618a4\" y=\"10.999219\"/>\r\n      </g>\r\n     </g>\r\n     <g id=\"text_13\">\r\n      <!-- 0 -->\r\n      <g transform=\"translate(196.180682 14.798437)scale(0.1 -0.1)\">\r\n       <use xlink:href=\"#DejaVuSans-48\"/>\r\n      </g>\r\n     </g>\r\n    </g>\r\n    <g id=\"ytick_8\">\r\n     <g id=\"line2d_14\">\r\n      <g>\r\n       <use style=\"stroke:#000000;stroke-width:0.8;\" x=\"209.543182\" xlink:href=\"#m04ad9618a4\" y=\"38.174543\"/>\r\n      </g>\r\n     </g>\r\n     <g id=\"text_14\">\r\n      <!-- 5 -->\r\n      <g transform=\"translate(196.180682 41.973762)scale(0.1 -0.1)\">\r\n       <use xlink:href=\"#DejaVuSans-53\"/>\r\n      </g>\r\n     </g>\r\n    </g>\r\n    <g id=\"ytick_9\">\r\n     <g id=\"line2d_15\">\r\n      <g>\r\n       <use style=\"stroke:#000000;stroke-width:0.8;\" x=\"209.543182\" xlink:href=\"#m04ad9618a4\" y=\"65.349868\"/>\r\n      </g>\r\n     </g>\r\n     <g id=\"text_15\">\r\n      <!-- 10 -->\r\n      <g transform=\"translate(189.818182 69.149087)scale(0.1 -0.1)\">\r\n       <use xlink:href=\"#DejaVuSans-49\"/>\r\n       <use x=\"63.623047\" xlink:href=\"#DejaVuSans-48\"/>\r\n      </g>\r\n     </g>\r\n    </g>\r\n    <g id=\"ytick_10\">\r\n     <g id=\"line2d_16\">\r\n      <g>\r\n       <use style=\"stroke:#000000;stroke-width:0.8;\" x=\"209.543182\" xlink:href=\"#m04ad9618a4\" y=\"92.525193\"/>\r\n      </g>\r\n     </g>\r\n     <g id=\"text_16\">\r\n      <!-- 15 -->\r\n      <g transform=\"translate(189.818182 96.324412)scale(0.1 -0.1)\">\r\n       <use xlink:href=\"#DejaVuSans-49\"/>\r\n       <use x=\"63.623047\" xlink:href=\"#DejaVuSans-53\"/>\r\n      </g>\r\n     </g>\r\n    </g>\r\n    <g id=\"ytick_11\">\r\n     <g id=\"line2d_17\">\r\n      <g>\r\n       <use style=\"stroke:#000000;stroke-width:0.8;\" x=\"209.543182\" xlink:href=\"#m04ad9618a4\" y=\"119.700517\"/>\r\n      </g>\r\n     </g>\r\n     <g id=\"text_17\">\r\n      <!-- 20 -->\r\n      <g transform=\"translate(189.818182 123.499736)scale(0.1 -0.1)\">\r\n       <use xlink:href=\"#DejaVuSans-50\"/>\r\n       <use x=\"63.623047\" xlink:href=\"#DejaVuSans-48\"/>\r\n      </g>\r\n     </g>\r\n    </g>\r\n    <g id=\"ytick_12\">\r\n     <g id=\"line2d_18\">\r\n      <g>\r\n       <use style=\"stroke:#000000;stroke-width:0.8;\" x=\"209.543182\" xlink:href=\"#m04ad9618a4\" y=\"146.875842\"/>\r\n      </g>\r\n     </g>\r\n     <g id=\"text_18\">\r\n      <!-- 25 -->\r\n      <g transform=\"translate(189.818182 150.675061)scale(0.1 -0.1)\">\r\n       <use xlink:href=\"#DejaVuSans-50\"/>\r\n       <use x=\"63.623047\" xlink:href=\"#DejaVuSans-53\"/>\r\n      </g>\r\n     </g>\r\n    </g>\r\n   </g>\r\n   <g id=\"patch_8\">\r\n    <path d=\"M 209.543182 160.463504 \r\nL 209.543182 8.281686 \r\n\" style=\"fill:none;stroke:#000000;stroke-linecap:square;stroke-linejoin:miter;stroke-width:0.8;\"/>\r\n   </g>\r\n   <g id=\"patch_9\">\r\n    <path d=\"M 361.725 160.463504 \r\nL 361.725 8.281686 \r\n\" style=\"fill:none;stroke:#000000;stroke-linecap:square;stroke-linejoin:miter;stroke-width:0.8;\"/>\r\n   </g>\r\n   <g id=\"patch_10\">\r\n    <path d=\"M 209.543182 160.463504 \r\nL 361.725 160.463504 \r\n\" style=\"fill:none;stroke:#000000;stroke-linecap:square;stroke-linejoin:miter;stroke-width:0.8;\"/>\r\n   </g>\r\n   <g id=\"patch_11\">\r\n    <path d=\"M 209.543182 8.281686 \r\nL 361.725 8.281686 \r\n\" style=\"fill:none;stroke:#000000;stroke-linecap:square;stroke-linejoin:miter;stroke-width:0.8;\"/>\r\n   </g>\r\n  </g>\r\n </g>\r\n <defs>\r\n  <clipPath id=\"p61c1d7ef2c\">\r\n   <rect height=\"152.181818\" width=\"152.181818\" x=\"26.925\" y=\"8.281686\"/>\r\n  </clipPath>\r\n  <clipPath id=\"p91ac6417c4\">\r\n   <rect height=\"152.181818\" width=\"152.181818\" x=\"209.543182\" y=\"8.281686\"/>\r\n  </clipPath>\r\n </defs>\r\n</svg>\r\n",
                        "image/png": "[encoded data removed]"
                    },
                    "metadata": {
                        "needs_background": "light"
                    }
                },
                {
                    "output_type": "stream",
                    "name": "stdout",
                    "text": [
                        "The correct label is: 0\n"
                    ]
                }
            ],
            "metadata": {}
        },
        {
            "cell_type": "markdown",
            "source": [
                "# 3. Building and fitting the model\r\n",
                "The model is very basic with no convolutions or dropouts, and only one hidden layer. \r\n",
                "\r\n",
                "The Sequential model is selected, which is a simple plain stack of single-input and single-output layers (feed forward network).\r\n",
                "\r\n",
                "### Structure of the neural network\r\n",
                "The input image gets flattened at the input layer to 784 (28x28) neurons and there is a single fully connected 256-neuron hidden layer with ReLU before the output layer. Output layer has 10 neurons, one for each digit, with softmax activation function. This outputs a probability distribution where each output value is in range(0, 1) and sum up to 1. The class with highest probability is the predicted value (digit).\r\n",
                "\r\n",
                "The chosen optimizer implements the Adam algorithm, which is based on stochastic gradient descent method.\r\n",
                "\r\n",
                "The sparse categorical crossentropy is selected as the loss function. Sparse is used because the labels aren't one-hot encoded.\r\n",
                "\r\n",
                "The sparse categorical accuracy indicates how often the predicted label matches the true label."
            ],
            "metadata": {}
        },
        {
            "cell_type": "code",
            "execution_count": 10,
            "source": [
                "NEURONS = 256\r\n",
                "EPOCHS = 10\r\n",
                "\r\n",
                "model = tf.keras.models.Sequential()\r\n",
                "model.add(tf.keras.layers.Flatten())\r\n",
                "model.add(tf.keras.layers.Dense(NEURONS, activation='relu'))\r\n",
                "model.add(tf.keras.layers.Dense(10, activation='softmax'))\r\n",
                "  \r\n",
                "model.compile(\r\n",
                "  optimizer='Adam',\r\n",
                "  loss='sparse_categorical_crossentropy',\r\n",
                "  metrics=['sparse_categorical_accuracy']\r\n",
                ")"
            ],
            "outputs": [],
            "metadata": {}
        },
        {
            "cell_type": "markdown",
            "source": [
                "Fit the model"
            ],
            "metadata": {}
        },
        {
            "cell_type": "code",
            "execution_count": 11,
            "source": [
                "# log_dir = f'logs/fit/FFNN-{NEURONS}-NEURONS-{EPOCHS}-EPOCHS-{datetime.now().strftime(\"%Y%m%d-%H%M%S\")}'\r\n",
                "# tensorboard_callback = TensorBoard(log_dir=log_dir, histogram_freq=1)\r\n",
                "\r\n",
                "model.fit(\r\n",
                "  x_train,\r\n",
                "  y_train,\r\n",
                "  epochs=EPOCHS,\r\n",
                "  validation_data=(x_test, y_test),\r\n",
                "  # callbacks=[tensorboard_callback]\r\n",
                ")\r\n",
                "\r\n",
                "#97,68"
            ],
            "outputs": [
                {
                    "output_type": "stream",
                    "name": "stdout",
                    "text": [
                        "Train on 60000 samples, validate on 10000 samples\n",
                        "Epoch 1/10\n",
                        "60000/60000 [==============================] - 8s 137us/sample - loss: 1.1189 - sparse_categorical_accuracy: 0.7651 - val_loss: 0.5536 - val_sparse_categorical_accuracy: 0.8712\n",
                        "Epoch 2/10\n",
                        "60000/60000 [==============================] - 8s 130us/sample - loss: 0.4751 - sparse_categorical_accuracy: 0.8752 - val_loss: 0.3976 - val_sparse_categorical_accuracy: 0.8969\n",
                        "Epoch 3/10\n",
                        "60000/60000 [==============================] - 8s 130us/sample - loss: 0.3844 - sparse_categorical_accuracy: 0.8937 - val_loss: 0.3452 - val_sparse_categorical_accuracy: 0.9079\n",
                        "Epoch 4/10\n",
                        "60000/60000 [==============================] - 7s 113us/sample - loss: 0.3437 - sparse_categorical_accuracy: 0.9037 - val_loss: 0.3163 - val_sparse_categorical_accuracy: 0.9142\n",
                        "Epoch 5/10\n",
                        "60000/60000 [==============================] - 7s 116us/sample - loss: 0.3178 - sparse_categorical_accuracy: 0.9101 - val_loss: 0.2956 - val_sparse_categorical_accuracy: 0.9183\n",
                        "Epoch 6/10\n",
                        "60000/60000 [==============================] - 7s 116us/sample - loss: 0.2987 - sparse_categorical_accuracy: 0.9158 - val_loss: 0.2807 - val_sparse_categorical_accuracy: 0.9227\n",
                        "Epoch 7/10\n",
                        "60000/60000 [==============================] - 7s 114us/sample - loss: 0.2834 - sparse_categorical_accuracy: 0.9199 - val_loss: 0.2714 - val_sparse_categorical_accuracy: 0.9233\n",
                        "Epoch 8/10\n",
                        "60000/60000 [==============================] - 7s 117us/sample - loss: 0.2703 - sparse_categorical_accuracy: 0.9238 - val_loss: 0.2590 - val_sparse_categorical_accuracy: 0.9276\n",
                        "Epoch 9/10\n",
                        "60000/60000 [==============================] - 8s 135us/sample - loss: 0.2589 - sparse_categorical_accuracy: 0.9271 - val_loss: 0.2500 - val_sparse_categorical_accuracy: 0.9299\n",
                        "Epoch 10/10\n",
                        "60000/60000 [==============================] - 7s 112us/sample - loss: 0.2487 - sparse_categorical_accuracy: 0.9303 - val_loss: 0.2421 - val_sparse_categorical_accuracy: 0.9324\n"
                    ]
                },
                {
                    "output_type": "execute_result",
                    "data": {
                        "text/plain": [
                            "<tensorflow.python.keras.callbacks.History at 0x267f9725108>"
                        ]
                    },
                    "metadata": {},
                    "execution_count": 11
                }
            ],
            "metadata": {}
        },
        {
            "cell_type": "code",
            "execution_count": 8,
            "source": [
                "predictions = model.predict(x_test)\r\n",
                "print(predictions[0])\r\n",
                "\r\n",
                "plt.imshow(x_test[0], cmap=plt.cm.binary)\r\n",
                "plt.show()\r\n",
                "print(f'Correct label: {y_test[0]}')\r\n",
                "print(f'Predicted label: {np.argmax(predictions[0])}')"
            ],
            "outputs": [
                {
                    "output_type": "stream",
                    "name": "stdout",
                    "text": [
                        "[7.0628525e-12 6.7534233e-15 4.2182224e-10 7.5263461e-06 1.8443131e-14\n",
                        " 7.4193993e-13 1.3439003e-19 9.9999249e-01 6.9186196e-10 2.8148410e-09]\n"
                    ]
                },
                {
                    "output_type": "display_data",
                    "data": {
                        "text/plain": [
                            "<Figure size 432x288 with 1 Axes>"
                        ],
                        "image/svg+xml": "<?xml version=\"1.0\" encoding=\"utf-8\" standalone=\"no\"?>\r\n<!DOCTYPE svg PUBLIC \"-//W3C//DTD SVG 1.1//EN\"\r\n  \"http://www.w3.org/Graphics/SVG/1.1/DTD/svg11.dtd\">\r\n<!-- Created with matplotlib (https://matplotlib.org/) -->\r\n<svg height=\"248.518125pt\" version=\"1.1\" viewBox=\"0 0 251.565 248.518125\" width=\"251.565pt\" xmlns=\"http://www.w3.org/2000/svg\" xmlns:xlink=\"http://www.w3.org/1999/xlink\">\r\n <defs>\r\n  <style type=\"text/css\">\r\n*{stroke-linecap:butt;stroke-linejoin:round;}\r\n  </style>\r\n </defs>\r\n <g id=\"figure_1\">\r\n  <g id=\"patch_1\">\r\n   <path d=\"M 0 248.518125 \r\nL 251.565 248.518125 \r\nL 251.565 0 \r\nL 0 0 \r\nz\r\n\" style=\"fill:none;\"/>\r\n  </g>\r\n  <g id=\"axes_1\">\r\n   <g id=\"patch_2\">\r\n    <path d=\"M 26.925 224.64 \r\nL 244.365 224.64 \r\nL 244.365 7.2 \r\nL 26.925 7.2 \r\nz\r\n\" style=\"fill:#ffffff;\"/>\r\n   </g>\r\n   <g clip-path=\"url(#p225be022e2)\">\r\n    <image height=\"218\" id=\"imagef302285967\" transform=\"scale(1 -1)translate(0 -218)\" width=\"218\" x=\"26.925\" xlink:href=\"data:image/png;base64,\r\niVBORw0KGgoAAAANSUhEUgAAANoAAADaCAYAAADAHVzbAAAABHNCSVQICAgIfAhkiAAABWNJREFUeJzt3b1LlX0cx3GfSiSjB8JIMYII22pw7C9wKoSKorW/KSeDamgLGtp6cKqcoiEIMaGMwDRcwlI493QPwX19D507P3o6r9f64Wcn4u0PvLiyv9VqtfqAXTWw1x8AeoHQIEBoECA0CBAaBAgNAoQGAUN7/QG61d27d8t9ZWWlcTt79mx59urVq+U+PDxc7uw/bjQIEBoECA0ChAYBQoMAoUGA0CDAc7Q9sLa2Vu4PHz4s95mZmXI/ceLEb38mdpcbDQKEBgFCgwChQYDQIEBoEODH+x26ePFiuX/+/Lnjr725uVnuP3/+7PhrszfcaBAgNAgQGgQIDQKEBgFCgwChQYDnaB1q9xxtfX29cXvz5s2f/jjsc240CBAaBAgNAoQGAUKDAKFBgNAgwHO0XTI9Pd24LS8vl2e3trbKvfqVUH19fX3j4+PlTp4bDQKEBgFCgwChQYDQIEBoECA0COhvtVqtvf4Qvebbt2/lfv/+/XL/+vVrud+4caPcp6amyp0/z40GAUKDAKFBgNAgQGgQIDQIEBoEeB9tDxw9erTcx8bGyr3dc7QnT550/PWPHTtWnqUzbjQIEBoECA0ChAYBQoMAoUGA12T2oXb/3dydO3fKfWNjo9wvXLjQuM3OzpZn6YwbDQKEBgFCgwChQYDQIEBoECA0CPAcrQu9f/++3B88eFDuIyMjjdutW7fKsxMTE+XOf3OjQYDQIEBoECA0CBAaBAgNAoQGAZ6j/YWeP39e7i9evGjczp8/X569du1aJx+p57nRIEBoECA0CBAaBAgNAoQGAUKDAL+26S906dKlcq/eZ1tZWSnPfvz4sdwnJyfLvVe50SBAaBAgNAgQGgQIDQKEBgFek+lBT58+bdxevnxZnm334/ubN2+W+8BAb35v782/NYQJDQKEBgFCgwChQYDQIEBoEOA1mR507ty5xu3169fl2eXl5XJfXV0t9159jcaNBgFCgwChQYDQIEBoECA0CBAaBHgfjV8sLCyU+7Nnz8r98OHD5V792qeJiYnybDdzo0GA0CBAaBAgNAgQGgQIDQKEBgHeR+MX09PT5f7q1aty39raKvcvX740bp6jAf+L0CBAaBAgNAgQGgQIDQKEBgHeR+O3vHv3rtwfPXpU7tVzttu3b5dnu/k5mxsNAoQGAUKDAKFBgNAgQGgQ4Mf7u6T6Mfba2lp59uTJk+X+6dOnjj7Tv/r7+xu3AwcOlGePHz9e7nNzc+X+9u3bxm17e7s8e+/evXLfz9xoECA0CBAaBAgNAoQGAUKDAKFBQFf/d3OPHz9u3NbX18uzp0+fLvelpaVyX11dLfcjR46Ue6Xds6oPHz6Ue7tHo4ODg43b8PBwebbdc7YfP36Ue2VxcbHjs/udGw0ChAYBQoMAoUGA0CBAaBAgNAjo6vfRqveqpqamyrMbGxvlfvDgwXIfHx8v9ytXrjRuZ86cKc8ODdWPNzc3N8u93T/pwEDz99d2f/bOzk65tzv//fv3xu3UqVPl2cuXL5f7fuZGgwChQYDQIEBoECA0CBAaBAgNArr6fbT5+fnGbWFhoTw7Ojpa7ocOHSr369evl/vk5GTj1u59M/4+bjQIEBoECA0ChAYBQoMAoUGA0CCgq99Hg27hRoMAoUGA0CBAaBAgNAgQGgQIDQKEBgFCgwChQYDQIEBoECA0CBAaBAgNAoQGAUKDAKFBgNAgQGgQIDQIEBoECA0ChAYBQoMAoUGA0CBAaBAgNAgQGgQIDQKEBgFCgwChQYDQIEBoECA0CBAaBAgNAoQGAUKDAKFBgNAgQGgQIDQIEBoECA0ChAYBQoMAoUGA0CBAaBAgNAj4B/qq5DpwvccTAAAAAElFTkSuQmCC\" y=\"-6.64\"/>\r\n   </g>\r\n   <g id=\"matplotlib.axis_1\">\r\n    <g id=\"xtick_1\">\r\n     <g id=\"line2d_1\">\r\n      <defs>\r\n       <path d=\"M 0 0 \r\nL 0 3.5 \r\n\" id=\"m12c3766db7\" style=\"stroke:#000000;stroke-width:0.8;\"/>\r\n      </defs>\r\n      <g>\r\n       <use style=\"stroke:#000000;stroke-width:0.8;\" x=\"30.807857\" xlink:href=\"#m12c3766db7\" y=\"224.64\"/>\r\n      </g>\r\n     </g>\r\n     <g id=\"text_1\">\r\n      <!-- 0 -->\r\n      <defs>\r\n       <path d=\"M 31.78125 66.40625 \r\nQ 24.171875 66.40625 20.328125 58.90625 \r\nQ 16.5 51.421875 16.5 36.375 \r\nQ 16.5 21.390625 20.328125 13.890625 \r\nQ 24.171875 6.390625 31.78125 6.390625 \r\nQ 39.453125 6.390625 43.28125 13.890625 \r\nQ 47.125 21.390625 47.125 36.375 \r\nQ 47.125 51.421875 43.28125 58.90625 \r\nQ 39.453125 66.40625 31.78125 66.40625 \r\nz\r\nM 31.78125 74.21875 \r\nQ 44.046875 74.21875 50.515625 64.515625 \r\nQ 56.984375 54.828125 56.984375 36.375 \r\nQ 56.984375 17.96875 50.515625 8.265625 \r\nQ 44.046875 -1.421875 31.78125 -1.421875 \r\nQ 19.53125 -1.421875 13.0625 8.265625 \r\nQ 6.59375 17.96875 6.59375 36.375 \r\nQ 6.59375 54.828125 13.0625 64.515625 \r\nQ 19.53125 74.21875 31.78125 74.21875 \r\nz\r\n\" id=\"DejaVuSans-48\"/>\r\n      </defs>\r\n      <g transform=\"translate(27.626607 239.238437)scale(0.1 -0.1)\">\r\n       <use xlink:href=\"#DejaVuSans-48\"/>\r\n      </g>\r\n     </g>\r\n    </g>\r\n    <g id=\"xtick_2\">\r\n     <g id=\"line2d_2\">\r\n      <g>\r\n       <use style=\"stroke:#000000;stroke-width:0.8;\" x=\"69.636429\" xlink:href=\"#m12c3766db7\" y=\"224.64\"/>\r\n      </g>\r\n     </g>\r\n     <g id=\"text_2\">\r\n      <!-- 5 -->\r\n      <defs>\r\n       <path d=\"M 10.796875 72.90625 \r\nL 49.515625 72.90625 \r\nL 49.515625 64.59375 \r\nL 19.828125 64.59375 \r\nL 19.828125 46.734375 \r\nQ 21.96875 47.46875 24.109375 47.828125 \r\nQ 26.265625 48.1875 28.421875 48.1875 \r\nQ 40.625 48.1875 47.75 41.5 \r\nQ 54.890625 34.8125 54.890625 23.390625 \r\nQ 54.890625 11.625 47.5625 5.09375 \r\nQ 40.234375 -1.421875 26.90625 -1.421875 \r\nQ 22.3125 -1.421875 17.546875 -0.640625 \r\nQ 12.796875 0.140625 7.71875 1.703125 \r\nL 7.71875 11.625 \r\nQ 12.109375 9.234375 16.796875 8.0625 \r\nQ 21.484375 6.890625 26.703125 6.890625 \r\nQ 35.15625 6.890625 40.078125 11.328125 \r\nQ 45.015625 15.765625 45.015625 23.390625 \r\nQ 45.015625 31 40.078125 35.4375 \r\nQ 35.15625 39.890625 26.703125 39.890625 \r\nQ 22.75 39.890625 18.8125 39.015625 \r\nQ 14.890625 38.140625 10.796875 36.28125 \r\nz\r\n\" id=\"DejaVuSans-53\"/>\r\n      </defs>\r\n      <g transform=\"translate(66.455179 239.238437)scale(0.1 -0.1)\">\r\n       <use xlink:href=\"#DejaVuSans-53\"/>\r\n      </g>\r\n     </g>\r\n    </g>\r\n    <g id=\"xtick_3\">\r\n     <g id=\"line2d_3\">\r\n      <g>\r\n       <use style=\"stroke:#000000;stroke-width:0.8;\" x=\"108.465\" xlink:href=\"#m12c3766db7\" y=\"224.64\"/>\r\n      </g>\r\n     </g>\r\n     <g id=\"text_3\">\r\n      <!-- 10 -->\r\n      <defs>\r\n       <path d=\"M 12.40625 8.296875 \r\nL 28.515625 8.296875 \r\nL 28.515625 63.921875 \r\nL 10.984375 60.40625 \r\nL 10.984375 69.390625 \r\nL 28.421875 72.90625 \r\nL 38.28125 72.90625 \r\nL 38.28125 8.296875 \r\nL 54.390625 8.296875 \r\nL 54.390625 0 \r\nL 12.40625 0 \r\nz\r\n\" id=\"DejaVuSans-49\"/>\r\n      </defs>\r\n      <g transform=\"translate(102.1025 239.238437)scale(0.1 -0.1)\">\r\n       <use xlink:href=\"#DejaVuSans-49\"/>\r\n       <use x=\"63.623047\" xlink:href=\"#DejaVuSans-48\"/>\r\n      </g>\r\n     </g>\r\n    </g>\r\n    <g id=\"xtick_4\">\r\n     <g id=\"line2d_4\">\r\n      <g>\r\n       <use style=\"stroke:#000000;stroke-width:0.8;\" x=\"147.293571\" xlink:href=\"#m12c3766db7\" y=\"224.64\"/>\r\n      </g>\r\n     </g>\r\n     <g id=\"text_4\">\r\n      <!-- 15 -->\r\n      <g transform=\"translate(140.931071 239.238437)scale(0.1 -0.1)\">\r\n       <use xlink:href=\"#DejaVuSans-49\"/>\r\n       <use x=\"63.623047\" xlink:href=\"#DejaVuSans-53\"/>\r\n      </g>\r\n     </g>\r\n    </g>\r\n    <g id=\"xtick_5\">\r\n     <g id=\"line2d_5\">\r\n      <g>\r\n       <use style=\"stroke:#000000;stroke-width:0.8;\" x=\"186.122143\" xlink:href=\"#m12c3766db7\" y=\"224.64\"/>\r\n      </g>\r\n     </g>\r\n     <g id=\"text_5\">\r\n      <!-- 20 -->\r\n      <defs>\r\n       <path d=\"M 19.1875 8.296875 \r\nL 53.609375 8.296875 \r\nL 53.609375 0 \r\nL 7.328125 0 \r\nL 7.328125 8.296875 \r\nQ 12.9375 14.109375 22.625 23.890625 \r\nQ 32.328125 33.6875 34.8125 36.53125 \r\nQ 39.546875 41.84375 41.421875 45.53125 \r\nQ 43.3125 49.21875 43.3125 52.78125 \r\nQ 43.3125 58.59375 39.234375 62.25 \r\nQ 35.15625 65.921875 28.609375 65.921875 \r\nQ 23.96875 65.921875 18.8125 64.3125 \r\nQ 13.671875 62.703125 7.8125 59.421875 \r\nL 7.8125 69.390625 \r\nQ 13.765625 71.78125 18.9375 73 \r\nQ 24.125 74.21875 28.421875 74.21875 \r\nQ 39.75 74.21875 46.484375 68.546875 \r\nQ 53.21875 62.890625 53.21875 53.421875 \r\nQ 53.21875 48.921875 51.53125 44.890625 \r\nQ 49.859375 40.875 45.40625 35.40625 \r\nQ 44.1875 33.984375 37.640625 27.21875 \r\nQ 31.109375 20.453125 19.1875 8.296875 \r\nz\r\n\" id=\"DejaVuSans-50\"/>\r\n      </defs>\r\n      <g transform=\"translate(179.759643 239.238437)scale(0.1 -0.1)\">\r\n       <use xlink:href=\"#DejaVuSans-50\"/>\r\n       <use x=\"63.623047\" xlink:href=\"#DejaVuSans-48\"/>\r\n      </g>\r\n     </g>\r\n    </g>\r\n    <g id=\"xtick_6\">\r\n     <g id=\"line2d_6\">\r\n      <g>\r\n       <use style=\"stroke:#000000;stroke-width:0.8;\" x=\"224.950714\" xlink:href=\"#m12c3766db7\" y=\"224.64\"/>\r\n      </g>\r\n     </g>\r\n     <g id=\"text_6\">\r\n      <!-- 25 -->\r\n      <g transform=\"translate(218.588214 239.238437)scale(0.1 -0.1)\">\r\n       <use xlink:href=\"#DejaVuSans-50\"/>\r\n       <use x=\"63.623047\" xlink:href=\"#DejaVuSans-53\"/>\r\n      </g>\r\n     </g>\r\n    </g>\r\n   </g>\r\n   <g id=\"matplotlib.axis_2\">\r\n    <g id=\"ytick_1\">\r\n     <g id=\"line2d_7\">\r\n      <defs>\r\n       <path d=\"M 0 0 \r\nL -3.5 0 \r\n\" id=\"m0bff78d761\" style=\"stroke:#000000;stroke-width:0.8;\"/>\r\n      </defs>\r\n      <g>\r\n       <use style=\"stroke:#000000;stroke-width:0.8;\" x=\"26.925\" xlink:href=\"#m0bff78d761\" y=\"11.082857\"/>\r\n      </g>\r\n     </g>\r\n     <g id=\"text_7\">\r\n      <!-- 0 -->\r\n      <g transform=\"translate(13.5625 14.882076)scale(0.1 -0.1)\">\r\n       <use xlink:href=\"#DejaVuSans-48\"/>\r\n      </g>\r\n     </g>\r\n    </g>\r\n    <g id=\"ytick_2\">\r\n     <g id=\"line2d_8\">\r\n      <g>\r\n       <use style=\"stroke:#000000;stroke-width:0.8;\" x=\"26.925\" xlink:href=\"#m0bff78d761\" y=\"49.911429\"/>\r\n      </g>\r\n     </g>\r\n     <g id=\"text_8\">\r\n      <!-- 5 -->\r\n      <g transform=\"translate(13.5625 53.710647)scale(0.1 -0.1)\">\r\n       <use xlink:href=\"#DejaVuSans-53\"/>\r\n      </g>\r\n     </g>\r\n    </g>\r\n    <g id=\"ytick_3\">\r\n     <g id=\"line2d_9\">\r\n      <g>\r\n       <use style=\"stroke:#000000;stroke-width:0.8;\" x=\"26.925\" xlink:href=\"#m0bff78d761\" y=\"88.74\"/>\r\n      </g>\r\n     </g>\r\n     <g id=\"text_9\">\r\n      <!-- 10 -->\r\n      <g transform=\"translate(7.2 92.539219)scale(0.1 -0.1)\">\r\n       <use xlink:href=\"#DejaVuSans-49\"/>\r\n       <use x=\"63.623047\" xlink:href=\"#DejaVuSans-48\"/>\r\n      </g>\r\n     </g>\r\n    </g>\r\n    <g id=\"ytick_4\">\r\n     <g id=\"line2d_10\">\r\n      <g>\r\n       <use style=\"stroke:#000000;stroke-width:0.8;\" x=\"26.925\" xlink:href=\"#m0bff78d761\" y=\"127.568571\"/>\r\n      </g>\r\n     </g>\r\n     <g id=\"text_10\">\r\n      <!-- 15 -->\r\n      <g transform=\"translate(7.2 131.36779)scale(0.1 -0.1)\">\r\n       <use xlink:href=\"#DejaVuSans-49\"/>\r\n       <use x=\"63.623047\" xlink:href=\"#DejaVuSans-53\"/>\r\n      </g>\r\n     </g>\r\n    </g>\r\n    <g id=\"ytick_5\">\r\n     <g id=\"line2d_11\">\r\n      <g>\r\n       <use style=\"stroke:#000000;stroke-width:0.8;\" x=\"26.925\" xlink:href=\"#m0bff78d761\" y=\"166.397143\"/>\r\n      </g>\r\n     </g>\r\n     <g id=\"text_11\">\r\n      <!-- 20 -->\r\n      <g transform=\"translate(7.2 170.196362)scale(0.1 -0.1)\">\r\n       <use xlink:href=\"#DejaVuSans-50\"/>\r\n       <use x=\"63.623047\" xlink:href=\"#DejaVuSans-48\"/>\r\n      </g>\r\n     </g>\r\n    </g>\r\n    <g id=\"ytick_6\">\r\n     <g id=\"line2d_12\">\r\n      <g>\r\n       <use style=\"stroke:#000000;stroke-width:0.8;\" x=\"26.925\" xlink:href=\"#m0bff78d761\" y=\"205.225714\"/>\r\n      </g>\r\n     </g>\r\n     <g id=\"text_12\">\r\n      <!-- 25 -->\r\n      <g transform=\"translate(7.2 209.024933)scale(0.1 -0.1)\">\r\n       <use xlink:href=\"#DejaVuSans-50\"/>\r\n       <use x=\"63.623047\" xlink:href=\"#DejaVuSans-53\"/>\r\n      </g>\r\n     </g>\r\n    </g>\r\n   </g>\r\n   <g id=\"patch_3\">\r\n    <path d=\"M 26.925 224.64 \r\nL 26.925 7.2 \r\n\" style=\"fill:none;stroke:#000000;stroke-linecap:square;stroke-linejoin:miter;stroke-width:0.8;\"/>\r\n   </g>\r\n   <g id=\"patch_4\">\r\n    <path d=\"M 244.365 224.64 \r\nL 244.365 7.2 \r\n\" style=\"fill:none;stroke:#000000;stroke-linecap:square;stroke-linejoin:miter;stroke-width:0.8;\"/>\r\n   </g>\r\n   <g id=\"patch_5\">\r\n    <path d=\"M 26.925 224.64 \r\nL 244.365 224.64 \r\n\" style=\"fill:none;stroke:#000000;stroke-linecap:square;stroke-linejoin:miter;stroke-width:0.8;\"/>\r\n   </g>\r\n   <g id=\"patch_6\">\r\n    <path d=\"M 26.925 7.2 \r\nL 244.365 7.2 \r\n\" style=\"fill:none;stroke:#000000;stroke-linecap:square;stroke-linejoin:miter;stroke-width:0.8;\"/>\r\n   </g>\r\n  </g>\r\n </g>\r\n <defs>\r\n  <clipPath id=\"p225be022e2\">\r\n   <rect height=\"217.44\" width=\"217.44\" x=\"26.925\" y=\"7.2\"/>\r\n  </clipPath>\r\n </defs>\r\n</svg>\r\n",
                        "image/png": "[encoded data removed]"
                    },
                    "metadata": {
                        "needs_background": "light"
                    }
                },
                {
                    "output_type": "stream",
                    "name": "stdout",
                    "text": [
                        "Correct label: 7\n",
                        "Predicted label: 7\n"
                    ]
                }
            ],
            "metadata": {}
        },
        {
            "cell_type": "code",
            "execution_count": 9,
            "source": [
                "y_pred = np.argmax(predictions, axis=1)\r\n",
                "mask = y_pred != y_test\r\n",
                "print(f'Incorrectly labelled digits: {np.count_nonzero(mask)}')\r\n",
                "\r\n",
                "incorrect_indeces = np.where(mask)\r\n",
                "fig, axs = plt.subplots(1,5)\r\n",
                "axs[0].imshow(x_test[incorrect_indeces[0][0]], cmap=plt.cm.binary)\r\n",
                "axs[1].imshow(x_test[incorrect_indeces[0][1]], cmap=plt.cm.binary)\r\n",
                "axs[2].imshow(x_test[incorrect_indeces[0][2]], cmap=plt.cm.binary)\r\n",
                "axs[3].imshow(x_test[incorrect_indeces[0][3]], cmap=plt.cm.binary)\r\n",
                "axs[4].imshow(x_test[incorrect_indeces[0][4]], cmap=plt.cm.binary)\r\n",
                "plt.show()\r\n",
                "\r\n",
                "print(f'Correct labels: {y_test[incorrect_indeces[0][0:5]]}')\r\n",
                "print(f'Predicted label: {y_pred[incorrect_indeces[0][0:5]]}')"
            ],
            "outputs": [
                {
                    "output_type": "stream",
                    "name": "stdout",
                    "text": [
                        "Incorrectly labelled digits: 254\n"
                    ]
                },
                {
                    "output_type": "display_data",
                    "data": {
                        "text/plain": [
                            "<Figure size 432x288 with 5 Axes>"
                        ],
                        "image/svg+xml": "<?xml version=\"1.0\" encoding=\"utf-8\" standalone=\"no\"?>\r\n<!DOCTYPE svg PUBLIC \"-//W3C//DTD SVG 1.1//EN\"\r\n  \"http://www.w3.org/Graphics/SVG/1.1/DTD/svg11.dtd\">\r\n<!-- Created with matplotlib (https://matplotlib.org/) -->\r\n<svg height=\"91.570694pt\" version=\"1.1\" viewBox=\"0 0 370.133559 91.570694\" width=\"370.133559pt\" xmlns=\"http://www.w3.org/2000/svg\" xmlns:xlink=\"http://www.w3.org/1999/xlink\">\r\n <defs>\r\n  <style type=\"text/css\">\r\n*{stroke-linecap:butt;stroke-linejoin:round;}\r\n  </style>\r\n </defs>\r\n <g id=\"figure_1\">\r\n  <g id=\"patch_1\">\r\n   <path d=\"M -0 91.570694 \r\nL 370.133559 91.570694 \r\nL 370.133559 0 \r\nL -0 0 \r\nz\r\n\" style=\"fill:none;\"/>\r\n  </g>\r\n  <g id=\"axes_1\">\r\n   <g id=\"patch_2\">\r\n    <path d=\"M 26.925 67.692569 \r\nL 84.649138 67.692569 \r\nL 84.649138 9.968431 \r\nL 26.925 9.968431 \r\nz\r\n\" style=\"fill:#ffffff;\"/>\r\n   </g>\r\n   <g clip-path=\"url(#pb3f2adaa7c)\">\r\n    <image height=\"58\" id=\"image91cbab68dc\" transform=\"scale(1 -1)translate(0 -58)\" width=\"58\" x=\"26.925\" xlink:href=\"data:image/png;base64,\r\niVBORw0KGgoAAAANSUhEUgAAADoAAAA6CAYAAADhu0ooAAAABHNCSVQICAgIfAhkiAAAA8ZJREFUaIHt2s1LVF8YwPGPWmZvWlFg2YuICEVolESEEFQiFNImqFy5FqF/oLV/gRsX6cJFuAukQKqFmhgkiLbpBYoSF2oIYfQG5W9RZ24zv0lm8iWYe7+bmbln7jPn8L3nnuc5d4qWl5eXxYDif92BjSIZaKGRDLTQSAZaaGz6Fz/68eNH8PXrVzA+Pg6qqqrA8+fPwaFDh0BtbS3Yu3dvKsamTfl1PTG6lkxMTIDJyUnw/v17sLS0hMjszMwM+PTpE9i2bdvPTv6yV19fn4rZ0NAAzp49CyoqKlbsQ2yMFq1Hrvvt2zfQ3d0NFhYW0o5v2bIFlJSUpB1/9+4dIqPhe8Ho1q1bU78R2srLy8HNmzfB/v37s/YpNkZjM9A1vXS/fPkC7ty5A968eYPokqupqQEXLlxA+nKRjfv374Ph4WHw4cOHVFtx8U9Hc3NziKbHyMhI1lixMbqmy8vo6Ch4/fo1KCoqAjdu3ADV1dV5xbt06VLaa4gPAwMDecVKjObD3bt3wcOHD8Hu3bvT2oPZ1RJSwmz8bjsbidF82L59O9i1axeiROD69evgyJEjq4of7uY9PT2pYz9+/ECUJvb19a0YIzZG13QdDeXX4uIiOHz48KrivXz5EvT29iJaK4lSwAMHDoBbt26tGCs2Rtd0Hd2xY0faa7hYQhkWCOYzzwvzrr+/Hzx+/Bh8//4d6Un90aNHQWtra059S4z+Dc+ePUM0tz5//gympqYQGQvzK5Br4X3w4MHUOVevXsWfy7JMEqOZhHn14sULcOzYsVTb/Pw8uH37Nti5cydWnxGVlpaCjo4O0NjY+L+2XEmMZjI0NATGxsbAlStXUm1h7oQtkb8l1KdtbW3g5MmTiObqakiMZjI9PZ32ua6uLvU+3PmCiXDXPX36NKJ1MKyrYRPsyZMnaTEvXrwImpqacu1WziRGM3n16hWorKz843eCiT8ZCSYHBweztq8Ue7UkRjMJeWfISELWkwtv374F9+7dy3ruqVOnwJkzZ3KOmS+xMZpzPdre3g727NkDysrKUm1dXV1ZzwkmQz0ZsquQ6544cQLRVRL2ateD2BjNeY62tLSAp0+fggcPHkRBflUXzc3NiPLQR48eIapGNm/eDM6fPw/OnTuH9TUZiI3R2Aw050s3FMWBUEQTbTWGcm3fvn2IyrTwDPPatWtITx83isRoJp2dnYgey4VHedkIJsN/Di5fvoz0za2NJjZG897ADsX17Oxs6lhICI4fP45o2VjPJD1fEqOFRmyMJgMtNJKBFhrJQAuN/wDddj3SB7ouNgAAAABJRU5ErkJggg==\" y=\"-9.692569\"/>\r\n   </g>\r\n   <g id=\"matplotlib.axis_1\">\r\n    <g id=\"xtick_1\">\r\n     <g id=\"line2d_1\">\r\n      <defs>\r\n       <path d=\"M 0 0 \r\nL 0 3.5 \r\n\" id=\"ma4c440e0e2\" style=\"stroke:#000000;stroke-width:0.8;\"/>\r\n      </defs>\r\n      <g>\r\n       <use style=\"stroke:#000000;stroke-width:0.8;\" x=\"27.955788\" xlink:href=\"#ma4c440e0e2\" y=\"67.692569\"/>\r\n      </g>\r\n     </g>\r\n     <g id=\"text_1\">\r\n      <!-- 0 -->\r\n      <defs>\r\n       <path d=\"M 31.78125 66.40625 \r\nQ 24.171875 66.40625 20.328125 58.90625 \r\nQ 16.5 51.421875 16.5 36.375 \r\nQ 16.5 21.390625 20.328125 13.890625 \r\nQ 24.171875 6.390625 31.78125 6.390625 \r\nQ 39.453125 6.390625 43.28125 13.890625 \r\nQ 47.125 21.390625 47.125 36.375 \r\nQ 47.125 51.421875 43.28125 58.90625 \r\nQ 39.453125 66.40625 31.78125 66.40625 \r\nz\r\nM 31.78125 74.21875 \r\nQ 44.046875 74.21875 50.515625 64.515625 \r\nQ 56.984375 54.828125 56.984375 36.375 \r\nQ 56.984375 17.96875 50.515625 8.265625 \r\nQ 44.046875 -1.421875 31.78125 -1.421875 \r\nQ 19.53125 -1.421875 13.0625 8.265625 \r\nQ 6.59375 17.96875 6.59375 36.375 \r\nQ 6.59375 54.828125 13.0625 64.515625 \r\nQ 19.53125 74.21875 31.78125 74.21875 \r\nz\r\n\" id=\"DejaVuSans-48\"/>\r\n      </defs>\r\n      <g transform=\"translate(24.774538 82.291006)scale(0.1 -0.1)\">\r\n       <use xlink:href=\"#DejaVuSans-48\"/>\r\n      </g>\r\n     </g>\r\n    </g>\r\n    <g id=\"xtick_2\">\r\n     <g id=\"line2d_2\">\r\n      <g>\r\n       <use style=\"stroke:#000000;stroke-width:0.8;\" x=\"79.495197\" xlink:href=\"#ma4c440e0e2\" y=\"67.692569\"/>\r\n      </g>\r\n     </g>\r\n     <g id=\"text_2\">\r\n      <!-- 25 -->\r\n      <defs>\r\n       <path d=\"M 19.1875 8.296875 \r\nL 53.609375 8.296875 \r\nL 53.609375 0 \r\nL 7.328125 0 \r\nL 7.328125 8.296875 \r\nQ 12.9375 14.109375 22.625 23.890625 \r\nQ 32.328125 33.6875 34.8125 36.53125 \r\nQ 39.546875 41.84375 41.421875 45.53125 \r\nQ 43.3125 49.21875 43.3125 52.78125 \r\nQ 43.3125 58.59375 39.234375 62.25 \r\nQ 35.15625 65.921875 28.609375 65.921875 \r\nQ 23.96875 65.921875 18.8125 64.3125 \r\nQ 13.671875 62.703125 7.8125 59.421875 \r\nL 7.8125 69.390625 \r\nQ 13.765625 71.78125 18.9375 73 \r\nQ 24.125 74.21875 28.421875 74.21875 \r\nQ 39.75 74.21875 46.484375 68.546875 \r\nQ 53.21875 62.890625 53.21875 53.421875 \r\nQ 53.21875 48.921875 51.53125 44.890625 \r\nQ 49.859375 40.875 45.40625 35.40625 \r\nQ 44.1875 33.984375 37.640625 27.21875 \r\nQ 31.109375 20.453125 19.1875 8.296875 \r\nz\r\n\" id=\"DejaVuSans-50\"/>\r\n       <path d=\"M 10.796875 72.90625 \r\nL 49.515625 72.90625 \r\nL 49.515625 64.59375 \r\nL 19.828125 64.59375 \r\nL 19.828125 46.734375 \r\nQ 21.96875 47.46875 24.109375 47.828125 \r\nQ 26.265625 48.1875 28.421875 48.1875 \r\nQ 40.625 48.1875 47.75 41.5 \r\nQ 54.890625 34.8125 54.890625 23.390625 \r\nQ 54.890625 11.625 47.5625 5.09375 \r\nQ 40.234375 -1.421875 26.90625 -1.421875 \r\nQ 22.3125 -1.421875 17.546875 -0.640625 \r\nQ 12.796875 0.140625 7.71875 1.703125 \r\nL 7.71875 11.625 \r\nQ 12.109375 9.234375 16.796875 8.0625 \r\nQ 21.484375 6.890625 26.703125 6.890625 \r\nQ 35.15625 6.890625 40.078125 11.328125 \r\nQ 45.015625 15.765625 45.015625 23.390625 \r\nQ 45.015625 31 40.078125 35.4375 \r\nQ 35.15625 39.890625 26.703125 39.890625 \r\nQ 22.75 39.890625 18.8125 39.015625 \r\nQ 14.890625 38.140625 10.796875 36.28125 \r\nz\r\n\" id=\"DejaVuSans-53\"/>\r\n      </defs>\r\n      <g transform=\"translate(73.132697 82.291006)scale(0.1 -0.1)\">\r\n       <use xlink:href=\"#DejaVuSans-50\"/>\r\n       <use x=\"63.623047\" xlink:href=\"#DejaVuSans-53\"/>\r\n      </g>\r\n     </g>\r\n    </g>\r\n   </g>\r\n   <g id=\"matplotlib.axis_2\">\r\n    <g id=\"ytick_1\">\r\n     <g id=\"line2d_3\">\r\n      <defs>\r\n       <path d=\"M 0 0 \r\nL -3.5 0 \r\n\" id=\"mcb92addffe\" style=\"stroke:#000000;stroke-width:0.8;\"/>\r\n      </defs>\r\n      <g>\r\n       <use style=\"stroke:#000000;stroke-width:0.8;\" x=\"26.925\" xlink:href=\"#mcb92addffe\" y=\"10.999219\"/>\r\n      </g>\r\n     </g>\r\n     <g id=\"text_3\">\r\n      <!-- 0 -->\r\n      <g transform=\"translate(13.5625 14.798437)scale(0.1 -0.1)\">\r\n       <use xlink:href=\"#DejaVuSans-48\"/>\r\n      </g>\r\n     </g>\r\n    </g>\r\n    <g id=\"ytick_2\">\r\n     <g id=\"line2d_4\">\r\n      <g>\r\n       <use style=\"stroke:#000000;stroke-width:0.8;\" x=\"26.925\" xlink:href=\"#mcb92addffe\" y=\"52.230746\"/>\r\n      </g>\r\n     </g>\r\n     <g id=\"text_4\">\r\n      <!-- 20 -->\r\n      <g transform=\"translate(7.2 56.029965)scale(0.1 -0.1)\">\r\n       <use xlink:href=\"#DejaVuSans-50\"/>\r\n       <use x=\"63.623047\" xlink:href=\"#DejaVuSans-48\"/>\r\n      </g>\r\n     </g>\r\n    </g>\r\n   </g>\r\n   <g id=\"patch_3\">\r\n    <path d=\"M 26.925 67.692569 \r\nL 26.925 9.968431 \r\n\" style=\"fill:none;stroke:#000000;stroke-linecap:square;stroke-linejoin:miter;stroke-width:0.8;\"/>\r\n   </g>\r\n   <g id=\"patch_4\">\r\n    <path d=\"M 84.649138 67.692569 \r\nL 84.649138 9.968431 \r\n\" style=\"fill:none;stroke:#000000;stroke-linecap:square;stroke-linejoin:miter;stroke-width:0.8;\"/>\r\n   </g>\r\n   <g id=\"patch_5\">\r\n    <path d=\"M 26.925 67.692569 \r\nL 84.649138 67.692569 \r\n\" style=\"fill:none;stroke:#000000;stroke-linecap:square;stroke-linejoin:miter;stroke-width:0.8;\"/>\r\n   </g>\r\n   <g id=\"patch_6\">\r\n    <path d=\"M 26.925 9.968431 \r\nL 84.649138 9.968431 \r\n\" style=\"fill:none;stroke:#000000;stroke-linecap:square;stroke-linejoin:miter;stroke-width:0.8;\"/>\r\n   </g>\r\n  </g>\r\n  <g id=\"axes_2\">\r\n   <g id=\"patch_7\">\r\n    <path d=\"M 96.193966 67.692569 \r\nL 153.918103 67.692569 \r\nL 153.918103 9.968431 \r\nL 96.193966 9.968431 \r\nz\r\n\" style=\"fill:#ffffff;\"/>\r\n   </g>\r\n   <g clip-path=\"url(#p3e3b037727)\">\r\n    <image height=\"58\" id=\"imageb6c40660ab\" transform=\"scale(1 -1)translate(0 -58)\" width=\"58\" x=\"96.193966\" xlink:href=\"data:image/png;base64,\r\niVBORw0KGgoAAAANSUhEUgAAADoAAAA6CAYAAADhu0ooAAAABHNCSVQICAgIfAhkiAAAAqVJREFUaIHt2jsvbFEUwPEfoUAUggjiXYjoREEhERGh0+n4ZD6BRiEqEQoKj0gUREMjEfGKwitet5Bt576v65yRzDn/ZoqZM3ut+Z+199r7TMnr6+urDFD61QEUijzRYiNPtNjIEy02ygoxyOXlJVhcXARtbW1gaGioEMMjN5ost7e34Pn5GVxdXYHz83NQV1eXegy50SQpLy8HpaVvv+vT0xM4OjpCbjRRMpNoQW7dhoYG0NTUBK6vrwsx7HfkRtOgt7cXrK+vg5OTk4KNnRtNgpeXl+9ewzITuLu7Azc3N6Cqqiq1WDJjtCSNw7GDgwOwvLwMLi4uQEtLC6iurkZsDUPDMD4+nnQo72TGaKI1Ggzu7u6Ch4cHUFFRgbiOhtoMnJ6eIhqurKxMMixkyGgiNTo3Nwd2dnZAfX09aG9vBwMDA6CxsRFxll1YWEA03NzcDEZHR9+CKyn5bGjv5EY/Qqi96elpRIOTk5N/vG5vbw9sbGwgHrnMzMyA2traz4b2TmaMJjLrzs7OgrW1Nfx7bbW2tiIaDSwtLYGpqakkwkNu9GNMTEwgrpuHh4dga2sL9Pf3//K60Nt2dXUh1ujq6ipyo/9Fop3R8PAw4jFm6JA6Ojrw8ywaarmvrw9sbm4i9sbh/STa8cwYTWX3sr29jTh7dnd34+/rauiUwnHo3z7/EXKjnyF85fz8PNjf3wdjY2P4/Swcrkuyxw1kxmgqZ0bByMjICDg+PkbsbWtqahDXzx+vS4PMGE2lRn8krKsrKyugrOztRurp6UGcldMkM0Yzk2hBbt3A2dkZ4nbu/v4eDA4OIv63IQ1yo2kStnHhYVP4b0PYFKRhNjNGC/rYMNDZ2YloMtTs4+NjamNmxuiX1OhXkBmjeaLFRp5osZEnWmx8A6Q19P3axrt5AAAAAElFTkSuQmCC\" y=\"-9.692569\"/>\r\n   </g>\r\n   <g id=\"matplotlib.axis_3\">\r\n    <g id=\"xtick_3\">\r\n     <g id=\"line2d_5\">\r\n      <g>\r\n       <use style=\"stroke:#000000;stroke-width:0.8;\" x=\"97.224754\" xlink:href=\"#ma4c440e0e2\" y=\"67.692569\"/>\r\n      </g>\r\n     </g>\r\n     <g id=\"text_5\">\r\n      <!-- 0 -->\r\n      <g transform=\"translate(94.043504 82.291006)scale(0.1 -0.1)\">\r\n       <use xlink:href=\"#DejaVuSans-48\"/>\r\n      </g>\r\n     </g>\r\n    </g>\r\n    <g id=\"xtick_4\">\r\n     <g id=\"line2d_6\">\r\n      <g>\r\n       <use style=\"stroke:#000000;stroke-width:0.8;\" x=\"148.764163\" xlink:href=\"#ma4c440e0e2\" y=\"67.692569\"/>\r\n      </g>\r\n     </g>\r\n     <g id=\"text_6\">\r\n      <!-- 25 -->\r\n      <g transform=\"translate(142.401663 82.291006)scale(0.1 -0.1)\">\r\n       <use xlink:href=\"#DejaVuSans-50\"/>\r\n       <use x=\"63.623047\" xlink:href=\"#DejaVuSans-53\"/>\r\n      </g>\r\n     </g>\r\n    </g>\r\n   </g>\r\n   <g id=\"matplotlib.axis_4\">\r\n    <g id=\"ytick_3\">\r\n     <g id=\"line2d_7\">\r\n      <g>\r\n       <use style=\"stroke:#000000;stroke-width:0.8;\" x=\"96.193966\" xlink:href=\"#mcb92addffe\" y=\"10.999219\"/>\r\n      </g>\r\n     </g>\r\n     <g id=\"text_7\">\r\n      <!-- 0 -->\r\n      <g transform=\"translate(82.831466 14.798438)scale(0.1 -0.1)\">\r\n       <use xlink:href=\"#DejaVuSans-48\"/>\r\n      </g>\r\n     </g>\r\n    </g>\r\n    <g id=\"ytick_4\">\r\n     <g id=\"line2d_8\">\r\n      <g>\r\n       <use style=\"stroke:#000000;stroke-width:0.8;\" x=\"96.193966\" xlink:href=\"#mcb92addffe\" y=\"52.230746\"/>\r\n      </g>\r\n     </g>\r\n     <g id=\"text_8\">\r\n      <!-- 20 -->\r\n      <g transform=\"translate(76.468966 56.029965)scale(0.1 -0.1)\">\r\n       <use xlink:href=\"#DejaVuSans-50\"/>\r\n       <use x=\"63.623047\" xlink:href=\"#DejaVuSans-48\"/>\r\n      </g>\r\n     </g>\r\n    </g>\r\n   </g>\r\n   <g id=\"patch_8\">\r\n    <path d=\"M 96.193966 67.692569 \r\nL 96.193966 9.968431 \r\n\" style=\"fill:none;stroke:#000000;stroke-linecap:square;stroke-linejoin:miter;stroke-width:0.8;\"/>\r\n   </g>\r\n   <g id=\"patch_9\">\r\n    <path d=\"M 153.918103 67.692569 \r\nL 153.918103 9.968431 \r\n\" style=\"fill:none;stroke:#000000;stroke-linecap:square;stroke-linejoin:miter;stroke-width:0.8;\"/>\r\n   </g>\r\n   <g id=\"patch_10\">\r\n    <path d=\"M 96.193966 67.692569 \r\nL 153.918103 67.692569 \r\n\" style=\"fill:none;stroke:#000000;stroke-linecap:square;stroke-linejoin:miter;stroke-width:0.8;\"/>\r\n   </g>\r\n   <g id=\"patch_11\">\r\n    <path d=\"M 96.193966 9.968431 \r\nL 153.918103 9.968431 \r\n\" style=\"fill:none;stroke:#000000;stroke-linecap:square;stroke-linejoin:miter;stroke-width:0.8;\"/>\r\n   </g>\r\n  </g>\r\n  <g id=\"axes_3\">\r\n   <g id=\"patch_12\">\r\n    <path d=\"M 165.462931 67.692569 \r\nL 223.187069 67.692569 \r\nL 223.187069 9.968431 \r\nL 165.462931 9.968431 \r\nz\r\n\" style=\"fill:#ffffff;\"/>\r\n   </g>\r\n   <g clip-path=\"url(#pf04a08d46a)\">\r\n    <image height=\"58\" id=\"image4a6302681f\" transform=\"scale(1 -1)translate(0 -58)\" width=\"58\" x=\"165.462931\" xlink:href=\"data:image/png;base64,\r\niVBORw0KGgoAAAANSUhEUgAAADoAAAA6CAYAAADhu0ooAAAABHNCSVQICAgIfAhkiAAAAyRJREFUaIHt2TtLHF0YwPFfNF5YMYIplIiKaBQV1MLSwgiBWCjYWtqJ30DQT2CpnyHYWGjnF1DQQiIhoCDeIEUQIlFXvKYIZyfrGxMvq/I682/cnTkzex7/85zLMy8uLy8vxYC8p+7AY5EE+txIAn1uJIE+N5JAnxtJoM+NlzdtWFlZCVpaWkBHR0fm3PDwMHj79u1f73FwcABOTk5AeXn5Lbp6P2JjNDaBvrjpNq23tzfre3Nzc+ZzQUEBGBkZATU1NX+8x/z8PPj69St49+7dX9vnksTodYyPjyMaWH4nDC5hcHr9+nXW+YWFBfDlyxdQV1eHyOxDkhi9jo2NDTA5OXltmzAFDQ0Ngby8X//PT58+geXlZXB6egqamppAd3f3bbpyKxKj13F2dgZmZmYyxxYXF7PafP/+HQwMDIC+vj5wfn4OPn78CA4PD8GrV69AUVERKC0tRZTzjY2NWcfvQmyM3ngJmLng5a9L+vv7/3Puqtnp6WlET8GbN28QGQxGA3t7e+Dz589gdnY26/qVlZVM29tWaROj/6K4uDjzOdgNRpaWlkA6nUaUzyHXqqqqbvVbwWhYed2F2Bi99aj7Ny4uLsDq6iqYmppCZDYYHR0dBdvb24hyO6y2jo6OwODgICgrKwOFhYV37ltsjN45R/9EWAG1t7eDsbExMDExkdVuc3MTUa6G+TEYDU9Gfn4+7mcy07d73+F/Qk6NXqW6uhr09PQgWuuura2B+vp60NnZCebm5hCZDaN4LkouidFc8uHDB/Djxw9EFYZv376BiooKUFtbiyjXw/FcEBujOZ1H/8XV/WjI4ffv3yPa3YS/uRhtA7Ex+ig5GmhoaADr6+uIcvX4+BjR+jnMn7kkNkYfNdBUKiWVSmlra9PW1iadTkun0zY2NjK1qIciNkYfNUcDodIQakShzhuqhw9BbIzGJtAneXRLSkoQbcR3dnbA/v4+oo12LkmMPgatra1ga2sLUQmmq6sr57+VGH0Kdnd3Eb18Ci+Yc0Fi9CkIZdGwTUuM3oEnNRrm01D2DAZ/f92RK2Jj9FFLKU9JbIwmgT43fgKxjQjniM9jVgAAAABJRU5ErkJggg==\" y=\"-9.692569\"/>\r\n   </g>\r\n   <g id=\"matplotlib.axis_5\">\r\n    <g id=\"xtick_5\">\r\n     <g id=\"line2d_9\">\r\n      <g>\r\n       <use style=\"stroke:#000000;stroke-width:0.8;\" x=\"166.493719\" xlink:href=\"#ma4c440e0e2\" y=\"67.692569\"/>\r\n      </g>\r\n     </g>\r\n     <g id=\"text_9\">\r\n      <!-- 0 -->\r\n      <g transform=\"translate(163.312469 82.291006)scale(0.1 -0.1)\">\r\n       <use xlink:href=\"#DejaVuSans-48\"/>\r\n      </g>\r\n     </g>\r\n    </g>\r\n    <g id=\"xtick_6\">\r\n     <g id=\"line2d_10\">\r\n      <g>\r\n       <use style=\"stroke:#000000;stroke-width:0.8;\" x=\"218.033128\" xlink:href=\"#ma4c440e0e2\" y=\"67.692569\"/>\r\n      </g>\r\n     </g>\r\n     <g id=\"text_10\">\r\n      <!-- 25 -->\r\n      <g transform=\"translate(211.670628 82.291006)scale(0.1 -0.1)\">\r\n       <use xlink:href=\"#DejaVuSans-50\"/>\r\n       <use x=\"63.623047\" xlink:href=\"#DejaVuSans-53\"/>\r\n      </g>\r\n     </g>\r\n    </g>\r\n   </g>\r\n   <g id=\"matplotlib.axis_6\">\r\n    <g id=\"ytick_5\">\r\n     <g id=\"line2d_11\">\r\n      <g>\r\n       <use style=\"stroke:#000000;stroke-width:0.8;\" x=\"165.462931\" xlink:href=\"#mcb92addffe\" y=\"10.999219\"/>\r\n      </g>\r\n     </g>\r\n     <g id=\"text_11\">\r\n      <!-- 0 -->\r\n      <g transform=\"translate(152.100431 14.798437)scale(0.1 -0.1)\">\r\n       <use xlink:href=\"#DejaVuSans-48\"/>\r\n      </g>\r\n     </g>\r\n    </g>\r\n    <g id=\"ytick_6\">\r\n     <g id=\"line2d_12\">\r\n      <g>\r\n       <use style=\"stroke:#000000;stroke-width:0.8;\" x=\"165.462931\" xlink:href=\"#mcb92addffe\" y=\"52.230746\"/>\r\n      </g>\r\n     </g>\r\n     <g id=\"text_12\">\r\n      <!-- 20 -->\r\n      <g transform=\"translate(145.737931 56.029965)scale(0.1 -0.1)\">\r\n       <use xlink:href=\"#DejaVuSans-50\"/>\r\n       <use x=\"63.623047\" xlink:href=\"#DejaVuSans-48\"/>\r\n      </g>\r\n     </g>\r\n    </g>\r\n   </g>\r\n   <g id=\"patch_13\">\r\n    <path d=\"M 165.462931 67.692569 \r\nL 165.462931 9.968431 \r\n\" style=\"fill:none;stroke:#000000;stroke-linecap:square;stroke-linejoin:miter;stroke-width:0.8;\"/>\r\n   </g>\r\n   <g id=\"patch_14\">\r\n    <path d=\"M 223.187069 67.692569 \r\nL 223.187069 9.968431 \r\n\" style=\"fill:none;stroke:#000000;stroke-linecap:square;stroke-linejoin:miter;stroke-width:0.8;\"/>\r\n   </g>\r\n   <g id=\"patch_15\">\r\n    <path d=\"M 165.462931 67.692569 \r\nL 223.187069 67.692569 \r\n\" style=\"fill:none;stroke:#000000;stroke-linecap:square;stroke-linejoin:miter;stroke-width:0.8;\"/>\r\n   </g>\r\n   <g id=\"patch_16\">\r\n    <path d=\"M 165.462931 9.968431 \r\nL 223.187069 9.968431 \r\n\" style=\"fill:none;stroke:#000000;stroke-linecap:square;stroke-linejoin:miter;stroke-width:0.8;\"/>\r\n   </g>\r\n  </g>\r\n  <g id=\"axes_4\">\r\n   <g id=\"patch_17\">\r\n    <path d=\"M 234.731897 67.692569 \r\nL 292.456034 67.692569 \r\nL 292.456034 9.968431 \r\nL 234.731897 9.968431 \r\nz\r\n\" style=\"fill:#ffffff;\"/>\r\n   </g>\r\n   <g clip-path=\"url(#pecc96a0bde)\">\r\n    <image height=\"58\" id=\"imageb9dc4fe958\" transform=\"scale(1 -1)translate(0 -58)\" width=\"58\" x=\"234.731897\" xlink:href=\"data:image/png;base64,\r\niVBORw0KGgoAAAANSUhEUgAAADoAAAA6CAYAAADhu0ooAAAABHNCSVQICAgIfAhkiAAAAr9JREFUaIHt2rlKPFkUgPFf66CBC67ghoq4IO6RID6AmAhGvoipD+ETmJmZmBiaaKS4I7grioKZG4rbBENx/9sgo10OdNWXFB1033P6u/fUqXsr8/7+/i4B5P3fAXwXaaK5xl9x/OjDwwNYXFwENzc3oKioCPT394O6ujqQn58fRxg/kRijmTiq7vz8PLi9vQV5ef/8n09PTwgGW1pawNDQULZD+I3EGI1lje7s7IDGxkbQ1taGYHBpaQkcHR2B4uJi0NPTAzKZTNZjSo1+hchkRGFhISgrKwOjo6Pg5OQErK2tgerqalBbW5v1mFKjX6G+vh5cXFyA7e1t0NzcjLAmozUbXY+Pj+MIBwkymphEY2kYoqm6ubmJ0DA0NDSA4eHhbA/5IYkxGksx6u7uBnd3dwi3kcPDQ9DZ2QkqKyvjGP6PpEazQVdXFzg/P0do6qPbTmo0BmKpur+yv78PlpeXQUFBARgcHERoGOIkMUZjXaMRkbGzszNweXmJYDo1mkW+xWi0dTIwMIBgNLru7u4i3F/jIDUaBxUVFQg9b9QxbW1tgY6ODoTeOJukRuPkV6NRT3xwcADa29uzPmZqNE5aW1vB/f09WF1dBSsrK6C8vBxhsywbpEa/g2gTbWNjAzw/PyN0UKnRT/AtTy8fsb6+jt/NjoyMIFTpr5Aa/fCLPxwE1dTUgLGxMTA5OYmwYf3RQe/r6yuYnZ0FV1dXCCYnJiY+E+JPJMbop6vujxNhenoazM3NgZmZGdDX1weamppASUkJwgyIjibe3t7+OMbU1BRSo/+JrFbdhYUFsLe3B6qqqvDvR/ulpaXg5eUF4VWA6+trhJ2H8fHxL8eWGKOJSTSWhuHx8RGhaT89PUWYotHUjj5HxSia4tF7StFhVG9v75djSo3mGokxmiaaa6SJ5hpporlGmmiukSaaa/wNH+/u2djEb8AAAAAASUVORK5CYII=\" y=\"-9.692569\"/>\r\n   </g>\r\n   <g id=\"matplotlib.axis_7\">\r\n    <g id=\"xtick_7\">\r\n     <g id=\"line2d_13\">\r\n      <g>\r\n       <use style=\"stroke:#000000;stroke-width:0.8;\" x=\"235.762685\" xlink:href=\"#ma4c440e0e2\" y=\"67.692569\"/>\r\n      </g>\r\n     </g>\r\n     <g id=\"text_13\">\r\n      <!-- 0 -->\r\n      <g transform=\"translate(232.581435 82.291006)scale(0.1 -0.1)\">\r\n       <use xlink:href=\"#DejaVuSans-48\"/>\r\n      </g>\r\n     </g>\r\n    </g>\r\n    <g id=\"xtick_8\">\r\n     <g id=\"line2d_14\">\r\n      <g>\r\n       <use style=\"stroke:#000000;stroke-width:0.8;\" x=\"287.302094\" xlink:href=\"#ma4c440e0e2\" y=\"67.692569\"/>\r\n      </g>\r\n     </g>\r\n     <g id=\"text_14\">\r\n      <!-- 25 -->\r\n      <g transform=\"translate(280.939594 82.291006)scale(0.1 -0.1)\">\r\n       <use xlink:href=\"#DejaVuSans-50\"/>\r\n       <use x=\"63.623047\" xlink:href=\"#DejaVuSans-53\"/>\r\n      </g>\r\n     </g>\r\n    </g>\r\n   </g>\r\n   <g id=\"matplotlib.axis_8\">\r\n    <g id=\"ytick_7\">\r\n     <g id=\"line2d_15\">\r\n      <g>\r\n       <use style=\"stroke:#000000;stroke-width:0.8;\" x=\"234.731897\" xlink:href=\"#mcb92addffe\" y=\"10.999219\"/>\r\n      </g>\r\n     </g>\r\n     <g id=\"text_15\">\r\n      <!-- 0 -->\r\n      <g transform=\"translate(221.369397 14.798438)scale(0.1 -0.1)\">\r\n       <use xlink:href=\"#DejaVuSans-48\"/>\r\n      </g>\r\n     </g>\r\n    </g>\r\n    <g id=\"ytick_8\">\r\n     <g id=\"line2d_16\">\r\n      <g>\r\n       <use style=\"stroke:#000000;stroke-width:0.8;\" x=\"234.731897\" xlink:href=\"#mcb92addffe\" y=\"52.230746\"/>\r\n      </g>\r\n     </g>\r\n     <g id=\"text_16\">\r\n      <!-- 20 -->\r\n      <g transform=\"translate(215.006897 56.029965)scale(0.1 -0.1)\">\r\n       <use xlink:href=\"#DejaVuSans-50\"/>\r\n       <use x=\"63.623047\" xlink:href=\"#DejaVuSans-48\"/>\r\n      </g>\r\n     </g>\r\n    </g>\r\n   </g>\r\n   <g id=\"patch_18\">\r\n    <path d=\"M 234.731897 67.692569 \r\nL 234.731897 9.968431 \r\n\" style=\"fill:none;stroke:#000000;stroke-linecap:square;stroke-linejoin:miter;stroke-width:0.8;\"/>\r\n   </g>\r\n   <g id=\"patch_19\">\r\n    <path d=\"M 292.456034 67.692569 \r\nL 292.456034 9.968431 \r\n\" style=\"fill:none;stroke:#000000;stroke-linecap:square;stroke-linejoin:miter;stroke-width:0.8;\"/>\r\n   </g>\r\n   <g id=\"patch_20\">\r\n    <path d=\"M 234.731897 67.692569 \r\nL 292.456034 67.692569 \r\n\" style=\"fill:none;stroke:#000000;stroke-linecap:square;stroke-linejoin:miter;stroke-width:0.8;\"/>\r\n   </g>\r\n   <g id=\"patch_21\">\r\n    <path d=\"M 234.731897 9.968431 \r\nL 292.456034 9.968431 \r\n\" style=\"fill:none;stroke:#000000;stroke-linecap:square;stroke-linejoin:miter;stroke-width:0.8;\"/>\r\n   </g>\r\n  </g>\r\n  <g id=\"axes_5\">\r\n   <g id=\"patch_22\">\r\n    <path d=\"M 304.000862 67.692569 \r\nL 361.725 67.692569 \r\nL 361.725 9.968431 \r\nL 304.000862 9.968431 \r\nz\r\n\" style=\"fill:#ffffff;\"/>\r\n   </g>\r\n   <g clip-path=\"url(#p896283b56b)\">\r\n    <image height=\"58\" id=\"imageb174f34539\" transform=\"scale(1 -1)translate(0 -58)\" width=\"58\" x=\"304.000862\" xlink:href=\"data:image/png;base64,\r\niVBORw0KGgoAAAANSUhEUgAAADoAAAA6CAYAAADhu0ooAAAABHNCSVQICAgIfAhkiAAAArRJREFUaIHt2k0rdWsYwPGf4+SJJO95n3hJkqJESgZmRkyNDPgOPohvYWAiKSMZIBlIyUuRFEpeQt4Kz2id1fbUeY79rLVP7bX+k7X3uvde93X17773ta61Cz4/Pz8lgL/+7wByRZpovpEmmm+kieYbaaL5xt9RXGRjYwPs7OyAp6cnMD8/D6ampkBPTw8YHByMYtpvkRijBdnWup2dneFFCgrA9fU1uLq6Ai0tLWB4eBh0dHSA+vp60NjYCLq7uzM+HweJMZqYRLPejC4uLv55XVZW9q3vPjw8gOPjY3B0dASGhoZAW1sbqKioyDa8X0iM0Ug2o4C+vj4wPj4OSkpKQE1NDTg/P0e4Wb2/v4PHx0dwe3sLXl9fwezsLAhCrK2tzSZUpEa/R1AwfHx8IFxrv2Nvbw+sra2B09NTsL+/j3AfeHt7A9vb21nHmBijkZSA2ZZ0XV1doLy8HMzNzWWMB4VIFKRGc0mwC8dJajQXLC0tIayMvlJdXQ2qqqr+eK7UaBwEFc/JyQk4OztD+DtZWFgIxsbGwMjICGhvb//juVOjcbC6ugp2d3fBjx8/MsZLS0vB9PR05HOnRqPk5uYGYU0cmAsI3k9MTMQWQ2o0ShYWFv51POgo1NXVxRZDajQKDg4OwNbWFmhoaMgYLy4uBr29vXGGgdRoNAS9oOD4laCRXVlZGWcYSI1GQ1NTE2hubs44H7Spgr7u5eUlfl3DUZIYo5F0AX/HysoKWF9fR1gJFRUVIVyjk5OTscWQGKOJSTQnJeDo6CjCG+/Dw8OM8efnZ3B/f4/vP7T6LyTGaE42o4DNzU2EN94vLy8IjQaN7JmZmcjnTozRnLZSBgYGEP6XYXFxEaHR4LFhHCTGaE7X6Ffu7u7A8vIyaG1tBf39/ZHPlRrNNxJjNE0030gTzTd+AiMh233FQ8DTAAAAAElFTkSuQmCC\" y=\"-9.692569\"/>\r\n   </g>\r\n   <g id=\"matplotlib.axis_9\">\r\n    <g id=\"xtick_9\">\r\n     <g id=\"line2d_17\">\r\n      <g>\r\n       <use style=\"stroke:#000000;stroke-width:0.8;\" x=\"305.03165\" xlink:href=\"#ma4c440e0e2\" y=\"67.692569\"/>\r\n      </g>\r\n     </g>\r\n     <g id=\"text_17\">\r\n      <!-- 0 -->\r\n      <g transform=\"translate(301.8504 82.291006)scale(0.1 -0.1)\">\r\n       <use xlink:href=\"#DejaVuSans-48\"/>\r\n      </g>\r\n     </g>\r\n    </g>\r\n    <g id=\"xtick_10\">\r\n     <g id=\"line2d_18\">\r\n      <g>\r\n       <use style=\"stroke:#000000;stroke-width:0.8;\" x=\"356.571059\" xlink:href=\"#ma4c440e0e2\" y=\"67.692569\"/>\r\n      </g>\r\n     </g>\r\n     <g id=\"text_18\">\r\n      <!-- 25 -->\r\n      <g transform=\"translate(350.208559 82.291006)scale(0.1 -0.1)\">\r\n       <use xlink:href=\"#DejaVuSans-50\"/>\r\n       <use x=\"63.623047\" xlink:href=\"#DejaVuSans-53\"/>\r\n      </g>\r\n     </g>\r\n    </g>\r\n   </g>\r\n   <g id=\"matplotlib.axis_10\">\r\n    <g id=\"ytick_9\">\r\n     <g id=\"line2d_19\">\r\n      <g>\r\n       <use style=\"stroke:#000000;stroke-width:0.8;\" x=\"304.000862\" xlink:href=\"#mcb92addffe\" y=\"10.999219\"/>\r\n      </g>\r\n     </g>\r\n     <g id=\"text_19\">\r\n      <!-- 0 -->\r\n      <g transform=\"translate(290.638362 14.798437)scale(0.1 -0.1)\">\r\n       <use xlink:href=\"#DejaVuSans-48\"/>\r\n      </g>\r\n     </g>\r\n    </g>\r\n    <g id=\"ytick_10\">\r\n     <g id=\"line2d_20\">\r\n      <g>\r\n       <use style=\"stroke:#000000;stroke-width:0.8;\" x=\"304.000862\" xlink:href=\"#mcb92addffe\" y=\"52.230746\"/>\r\n      </g>\r\n     </g>\r\n     <g id=\"text_20\">\r\n      <!-- 20 -->\r\n      <g transform=\"translate(284.275862 56.029965)scale(0.1 -0.1)\">\r\n       <use xlink:href=\"#DejaVuSans-50\"/>\r\n       <use x=\"63.623047\" xlink:href=\"#DejaVuSans-48\"/>\r\n      </g>\r\n     </g>\r\n    </g>\r\n   </g>\r\n   <g id=\"patch_23\">\r\n    <path d=\"M 304.000862 67.692569 \r\nL 304.000862 9.968431 \r\n\" style=\"fill:none;stroke:#000000;stroke-linecap:square;stroke-linejoin:miter;stroke-width:0.8;\"/>\r\n   </g>\r\n   <g id=\"patch_24\">\r\n    <path d=\"M 361.725 67.692569 \r\nL 361.725 9.968431 \r\n\" style=\"fill:none;stroke:#000000;stroke-linecap:square;stroke-linejoin:miter;stroke-width:0.8;\"/>\r\n   </g>\r\n   <g id=\"patch_25\">\r\n    <path d=\"M 304.000862 67.692569 \r\nL 361.725 67.692569 \r\n\" style=\"fill:none;stroke:#000000;stroke-linecap:square;stroke-linejoin:miter;stroke-width:0.8;\"/>\r\n   </g>\r\n   <g id=\"patch_26\">\r\n    <path d=\"M 304.000862 9.968431 \r\nL 361.725 9.968431 \r\n\" style=\"fill:none;stroke:#000000;stroke-linecap:square;stroke-linejoin:miter;stroke-width:0.8;\"/>\r\n   </g>\r\n  </g>\r\n </g>\r\n <defs>\r\n  <clipPath id=\"pb3f2adaa7c\">\r\n   <rect height=\"57.724138\" width=\"57.724138\" x=\"26.925\" y=\"9.968431\"/>\r\n  </clipPath>\r\n  <clipPath id=\"p3e3b037727\">\r\n   <rect height=\"57.724138\" width=\"57.724138\" x=\"96.193966\" y=\"9.968431\"/>\r\n  </clipPath>\r\n  <clipPath id=\"pf04a08d46a\">\r\n   <rect height=\"57.724138\" width=\"57.724138\" x=\"165.462931\" y=\"9.968431\"/>\r\n  </clipPath>\r\n  <clipPath id=\"pecc96a0bde\">\r\n   <rect height=\"57.724138\" width=\"57.724138\" x=\"234.731897\" y=\"9.968431\"/>\r\n  </clipPath>\r\n  <clipPath id=\"p896283b56b\">\r\n   <rect height=\"57.724138\" width=\"57.724138\" x=\"304.000862\" y=\"9.968431\"/>\r\n  </clipPath>\r\n </defs>\r\n</svg>\r\n",
                        "image/png": "[encoded data removed]"
                    },
                    "metadata": {
                        "needs_background": "light"
                    }
                },
                {
                    "output_type": "stream",
                    "name": "stdout",
                    "text": [
                        "Correct labels: [3 4 4 2 5]\n",
                        "Predicted label: [8 9 2 7 3]\n"
                    ]
                }
            ],
            "metadata": {}
        }
    ],
    "metadata": {
        "orig_nbformat": 4,
        "language_info": {
            "name": "python",
            "version": "3.7.10",
            "mimetype": "text/x-python",
            "codemirror_mode": {
                "name": "ipython",
                "version": 3
            },
            "pygments_lexer": "ipython3",
            "nbconvert_exporter": "python",
            "file_extension": ".py"
        },
        "kernelspec": {
            "name": "python3",
            "display_name": "Python 3.7.10 64-bit ('DLC-CPU': conda)"
        },
        "interpreter": {
            "hash": "dccace1444a57180b98cc4958720dd912bfeeda29231ec52c5ba31f7fa94fcd5"
        }
    },
    "nbformat": 4,
    "nbformat_minor": 2
}